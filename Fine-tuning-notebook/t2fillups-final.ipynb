{
 "cells": [
  {
   "cell_type": "markdown",
   "id": "803adfbd",
   "metadata": {
    "papermill": {
     "duration": 0.011392,
     "end_time": "2023-06-23T17:35:11.492932",
     "exception": false,
     "start_time": "2023-06-23T17:35:11.481540",
     "status": "completed"
    },
    "tags": []
   },
   "source": [
    "<div style=\"padding:20px; \n",
    "            color:#150d0a;\n",
    "            margin:10px;\n",
    "            font-size:220%;\n",
    "            text-align:center;\n",
    "            display:fill;\n",
    "            border-radius:20px;\n",
    "            border-width: 5px;\n",
    "            border-style: solid;\n",
    "            border-color: #150d0a;\n",
    "            background-color: pink;\n",
    "            overflow:hidden;\n",
    "            font-weight:500\">Text2Fillups : A T5 approach</div>"
   ]
  },
  {
   "cell_type": "markdown",
   "id": "17449f6e",
   "metadata": {
    "papermill": {
     "duration": 0.010467,
     "end_time": "2023-06-23T17:35:11.514410",
     "exception": false,
     "start_time": "2023-06-23T17:35:11.503943",
     "status": "completed"
    },
    "tags": []
   },
   "source": [
    "<div style=\"color:white;\n",
    "           display:fill;\n",
    "           border-radius:5px;\n",
    "           background-color:#5642C5;\n",
    "           font-size:auto;\n",
    "           font-family:Verdana;\">\n",
    "\n",
    "<p style=\"padding: 10px; color:white;\">In this notebook, I will be using QA2D dataset to fine tune T5 transformer model to convert question-answer pairs to generate normal declarative sentences as a part of Text2Fillups project.\n",
    "</p>\n",
    "</div>"
   ]
  },
  {
   "cell_type": "markdown",
   "id": "312bcd15",
   "metadata": {
    "papermill": {
     "duration": 0.010451,
     "end_time": "2023-06-23T17:35:11.535524",
     "exception": false,
     "start_time": "2023-06-23T17:35:11.525073",
     "status": "completed"
    },
    "tags": []
   },
   "source": [
    "<p style=\"color:red; font-weight:600; font-size:35px;\">Installing required libraries 📝</p>"
   ]
  },
  {
   "cell_type": "code",
   "execution_count": 1,
   "id": "ba901dab",
   "metadata": {
    "_cell_guid": "b1076dfc-b9ad-4769-8c92-a6c4dae69d19",
    "_kg_hide-input": true,
    "_uuid": "8f2839f25d086af736a60e9eeb907d3b93b6e0e5",
    "execution": {
     "iopub.execute_input": "2023-06-23T17:35:11.559063Z",
     "iopub.status.busy": "2023-06-23T17:35:11.558411Z",
     "iopub.status.idle": "2023-06-23T17:35:23.943924Z",
     "shell.execute_reply": "2023-06-23T17:35:23.942627Z"
    },
    "papermill": {
     "duration": 12.400354,
     "end_time": "2023-06-23T17:35:23.946764",
     "exception": false,
     "start_time": "2023-06-23T17:35:11.546410",
     "status": "completed"
    },
    "tags": []
   },
   "outputs": [
    {
     "name": "stdout",
     "output_type": "stream",
     "text": [
      "\u001b[33mWARNING: Running pip as the 'root' user can result in broken permissions and conflicting behaviour with the system package manager. It is recommended to use a virtual environment instead: https://pip.pypa.io/warnings/venv\u001b[0m\u001b[33m\r\n",
      "\u001b[0m"
     ]
    }
   ],
   "source": [
    "!pip install -q datasets transformers nltk wandb"
   ]
  },
  {
   "cell_type": "markdown",
   "id": "efb776e8",
   "metadata": {
    "papermill": {
     "duration": 0.010857,
     "end_time": "2023-06-23T17:35:23.969502",
     "exception": false,
     "start_time": "2023-06-23T17:35:23.958645",
     "status": "completed"
    },
    "tags": []
   },
   "source": [
    "<div style=\"color:white;\n",
    "           display:fill;\n",
    "           border-radius:5px;\n",
    "           background-color:#5642C5;\n",
    "           font-size:auto;\n",
    "           font-family:Verdana;\">\n",
    "\n",
    "<p style=\"padding: 10px; color:white;\">I will be using wandb (Weights and biases) to log the model metrics, configuration files etc. It helps to make the fine tuning process faster and fun!\n",
    "</p>\n",
    "</div>"
   ]
  },
  {
   "cell_type": "code",
   "execution_count": 2,
   "id": "df8a8fae",
   "metadata": {
    "_kg_hide-input": true,
    "execution": {
     "iopub.execute_input": "2023-06-23T17:35:23.994249Z",
     "iopub.status.busy": "2023-06-23T17:35:23.993910Z",
     "iopub.status.idle": "2023-06-23T17:35:26.852356Z",
     "shell.execute_reply": "2023-06-23T17:35:26.851472Z"
    },
    "papermill": {
     "duration": 2.873082,
     "end_time": "2023-06-23T17:35:26.854459",
     "exception": false,
     "start_time": "2023-06-23T17:35:23.981377",
     "status": "completed"
    },
    "tags": []
   },
   "outputs": [
    {
     "name": "stderr",
     "output_type": "stream",
     "text": [
      "\u001b[34m\u001b[1mwandb\u001b[0m: W&B API key is configured. Use \u001b[1m`wandb login --relogin`\u001b[0m to force relogin\n",
      "\u001b[34m\u001b[1mwandb\u001b[0m: \u001b[33mWARNING\u001b[0m If you're specifying your api key in code, ensure this code is not shared publicly.\n",
      "\u001b[34m\u001b[1mwandb\u001b[0m: \u001b[33mWARNING\u001b[0m Consider setting the WANDB_API_KEY environment variable, or running `wandb login` from the command line.\n",
      "\u001b[34m\u001b[1mwandb\u001b[0m: Appending key for api.wandb.ai to your netrc file: /root/.netrc\n"
     ]
    },
    {
     "data": {
      "text/plain": [
       "True"
      ]
     },
     "execution_count": 2,
     "metadata": {},
     "output_type": "execute_result"
    }
   ],
   "source": [
    "import wandb\n",
    "from kaggle_secrets import UserSecretsClient\n",
    "\n",
    "user_secrets = UserSecretsClient()\n",
    "\n",
    "wandb_api = user_secrets.get_secret(\"wandb_api\") \n",
    "\n",
    "wandb.login(key=wandb_api)"
   ]
  },
  {
   "cell_type": "code",
   "execution_count": 3,
   "id": "e7bb30c4",
   "metadata": {
    "execution": {
     "iopub.execute_input": "2023-06-23T17:35:26.878494Z",
     "iopub.status.busy": "2023-06-23T17:35:26.878213Z",
     "iopub.status.idle": "2023-06-23T17:35:43.924141Z",
     "shell.execute_reply": "2023-06-23T17:35:43.923222Z"
    },
    "papermill": {
     "duration": 17.060528,
     "end_time": "2023-06-23T17:35:43.926508",
     "exception": false,
     "start_time": "2023-06-23T17:35:26.865980",
     "status": "completed"
    },
    "tags": []
   },
   "outputs": [
    {
     "name": "stderr",
     "output_type": "stream",
     "text": [
      "/opt/conda/lib/python3.10/site-packages/tensorflow_io/python/ops/__init__.py:98: UserWarning: unable to load libtensorflow_io_plugins.so: unable to open file: libtensorflow_io_plugins.so, from paths: ['/opt/conda/lib/python3.10/site-packages/tensorflow_io/python/ops/libtensorflow_io_plugins.so']\n",
      "caused by: ['/opt/conda/lib/python3.10/site-packages/tensorflow_io/python/ops/libtensorflow_io_plugins.so: undefined symbol: _ZN3tsl6StatusC1EN10tensorflow5error4CodeESt17basic_string_viewIcSt11char_traitsIcEENS_14SourceLocationE']\n",
      "  warnings.warn(f\"unable to load libtensorflow_io_plugins.so: {e}\")\n",
      "/opt/conda/lib/python3.10/site-packages/tensorflow_io/python/ops/__init__.py:104: UserWarning: file system plugins are not loaded: unable to open file: libtensorflow_io.so, from paths: ['/opt/conda/lib/python3.10/site-packages/tensorflow_io/python/ops/libtensorflow_io.so']\n",
      "caused by: ['/opt/conda/lib/python3.10/site-packages/tensorflow_io/python/ops/libtensorflow_io.so: undefined symbol: _ZTVN10tensorflow13GcsFileSystemE']\n",
      "  warnings.warn(f\"file system plugins are not loaded: {e}\")\n"
     ]
    }
   ],
   "source": [
    "import transformers\n",
    "import pandas as pd\n",
    "import numpy as np\n",
    "from tqdm.notebook import tqdm\n",
    "from sklearn.model_selection import train_test_split\n",
    "import re\n",
    "from datasets import load_dataset, load_metric\n",
    "import torch\n",
    "import torch.nn.functional as F\n",
    "from torch.utils.data import Dataset, DataLoader, RandomSampler, SequentialSampler\n",
    "from transformers import T5ForConditionalGeneration, T5Tokenizer, AdamW, get_linear_schedule_with_warmup\n",
    "from torch.cuda.amp import autocast, GradScaler\n",
    "from nltk.translate.bleu_score import corpus_bleu\n",
    "import pytorch_lightning as pl\n",
    "from pytorch_lightning.callbacks import ModelCheckpoint\n",
    "from pytorch_lightning.loggers import WandbLogger\n",
    "pl.seed_everything(100)\n",
    "import warnings\n",
    "warnings.filterwarnings(\"ignore\")"
   ]
  },
  {
   "cell_type": "markdown",
   "id": "3466129e",
   "metadata": {
    "papermill": {
     "duration": 0.011145,
     "end_time": "2023-06-23T17:35:43.950065",
     "exception": false,
     "start_time": "2023-06-23T17:35:43.938920",
     "status": "completed"
    },
    "tags": []
   },
   "source": [
    "<p style=\"color:red; font-weight:600; font-size:35px;\">Initialising WandB logger🪵</p>"
   ]
  },
  {
   "cell_type": "code",
   "execution_count": 4,
   "id": "1fd8eaec",
   "metadata": {
    "execution": {
     "iopub.execute_input": "2023-06-23T17:35:43.974098Z",
     "iopub.status.busy": "2023-06-23T17:35:43.973462Z",
     "iopub.status.idle": "2023-06-23T17:36:14.791997Z",
     "shell.execute_reply": "2023-06-23T17:36:14.791042Z"
    },
    "papermill": {
     "duration": 30.833339,
     "end_time": "2023-06-23T17:36:14.794723",
     "exception": false,
     "start_time": "2023-06-23T17:35:43.961384",
     "status": "completed"
    },
    "tags": []
   },
   "outputs": [
    {
     "name": "stderr",
     "output_type": "stream",
     "text": [
      "\u001b[34m\u001b[1mwandb\u001b[0m: Currently logged in as: \u001b[33mdhaneshv\u001b[0m (\u001b[33mwordless-souls\u001b[0m). Use \u001b[1m`wandb login --relogin`\u001b[0m to force relogin\n",
      "\u001b[34m\u001b[1mwandb\u001b[0m: Tracking run with wandb version 0.15.4\n",
      "\u001b[34m\u001b[1mwandb\u001b[0m: Run data is saved locally in \u001b[35m\u001b[1m./wandb/run-20230623_173544-nzgilan5\u001b[0m\n",
      "\u001b[34m\u001b[1mwandb\u001b[0m: Run \u001b[1m`wandb offline`\u001b[0m to turn off syncing.\n",
      "\u001b[34m\u001b[1mwandb\u001b[0m: Syncing run \u001b[33mPytorch-Lightning\u001b[0m\n",
      "\u001b[34m\u001b[1mwandb\u001b[0m: ⭐️ View project at \u001b[34m\u001b[4mhttps://wandb.ai/wordless-souls/Text2Questions\u001b[0m\n",
      "\u001b[34m\u001b[1mwandb\u001b[0m: 🚀 View run at \u001b[34m\u001b[4mhttps://wandb.ai/wordless-souls/Text2Questions/runs/nzgilan5\u001b[0m\n"
     ]
    }
   ],
   "source": [
    "wandb_logger = WandbLogger(project=\"Text2Questions\", name=\"Pytorch-Lightning\", log_model=\"all\")"
   ]
  },
  {
   "cell_type": "markdown",
   "id": "003ac1a8",
   "metadata": {
    "papermill": {
     "duration": 0.017109,
     "end_time": "2023-06-23T17:36:14.829115",
     "exception": false,
     "start_time": "2023-06-23T17:36:14.812006",
     "status": "completed"
    },
    "tags": []
   },
   "source": [
    "<p style=\"color:red; font-weight:600; font-size:35px;\">CONFIG Dictionary📒</p>"
   ]
  },
  {
   "cell_type": "code",
   "execution_count": 5,
   "id": "f19effd9",
   "metadata": {
    "execution": {
     "iopub.execute_input": "2023-06-23T17:36:14.865162Z",
     "iopub.status.busy": "2023-06-23T17:36:14.864828Z",
     "iopub.status.idle": "2023-06-23T17:36:14.889838Z",
     "shell.execute_reply": "2023-06-23T17:36:14.888978Z"
    },
    "papermill": {
     "duration": 0.045942,
     "end_time": "2023-06-23T17:36:14.892442",
     "exception": false,
     "start_time": "2023-06-23T17:36:14.846500",
     "status": "completed"
    },
    "tags": []
   },
   "outputs": [],
   "source": [
    "CONFIG = {}\n",
    "CONFIG['max_length'] = 512\n",
    "CONFIG['device'] = torch.device(\"cuda\" if torch.cuda.is_available() else \"cpu\")\n",
    "CONFIG['ans_max_length'] = 128\n",
    "CONFIG['num_beams'] = 3\n",
    "CONFIG['batch_size'] = 8\n",
    "CONFIG['epochs'] = 4\n",
    "CONFIG['model_checkpoint'] = 't5-base'\n",
    "CONFIG['lr'] = 1e-4\n",
    "CONFIG['warmup_steps'] = 3000\n",
    "CONFIG['training_steps'] = 20000"
   ]
  },
  {
   "cell_type": "code",
   "execution_count": 6,
   "id": "f88583e0",
   "metadata": {
    "execution": {
     "iopub.execute_input": "2023-06-23T17:36:14.928550Z",
     "iopub.status.busy": "2023-06-23T17:36:14.928230Z",
     "iopub.status.idle": "2023-06-23T17:36:14.933962Z",
     "shell.execute_reply": "2023-06-23T17:36:14.933091Z"
    },
    "papermill": {
     "duration": 0.028057,
     "end_time": "2023-06-23T17:36:14.938233",
     "exception": false,
     "start_time": "2023-06-23T17:36:14.910176",
     "status": "completed"
    },
    "tags": []
   },
   "outputs": [],
   "source": [
    "wandb.config.update(CONFIG)"
   ]
  },
  {
   "cell_type": "markdown",
   "id": "77f45cf4",
   "metadata": {
    "papermill": {
     "duration": 0.01715,
     "end_time": "2023-06-23T17:36:14.973203",
     "exception": false,
     "start_time": "2023-06-23T17:36:14.956053",
     "status": "completed"
    },
    "tags": []
   },
   "source": [
    "<p style=\"color:red; font-weight:600; font-size:35px;\">Inititaling tokenizer of T5 😊</p>"
   ]
  },
  {
   "cell_type": "code",
   "execution_count": 7,
   "id": "0006cc15",
   "metadata": {
    "execution": {
     "iopub.execute_input": "2023-06-23T17:36:15.008695Z",
     "iopub.status.busy": "2023-06-23T17:36:15.008362Z",
     "iopub.status.idle": "2023-06-23T17:36:15.721301Z",
     "shell.execute_reply": "2023-06-23T17:36:15.720389Z"
    },
    "papermill": {
     "duration": 0.733528,
     "end_time": "2023-06-23T17:36:15.723972",
     "exception": false,
     "start_time": "2023-06-23T17:36:14.990444",
     "status": "completed"
    },
    "tags": []
   },
   "outputs": [
    {
     "data": {
      "application/vnd.jupyter.widget-view+json": {
       "model_id": "12a539a815e44c2383951fedc5899c86",
       "version_major": 2,
       "version_minor": 0
      },
      "text/plain": [
       "Downloading (…)ve/main/spiece.model:   0%|          | 0.00/792k [00:00<?, ?B/s]"
      ]
     },
     "metadata": {},
     "output_type": "display_data"
    },
    {
     "data": {
      "application/vnd.jupyter.widget-view+json": {
       "model_id": "57d466873972412e93c3974b2e58904c",
       "version_major": 2,
       "version_minor": 0
      },
      "text/plain": [
       "Downloading (…)lve/main/config.json: 0.00B [00:00, ?B/s]"
      ]
     },
     "metadata": {},
     "output_type": "display_data"
    }
   ],
   "source": [
    "tokenizer = T5Tokenizer.from_pretrained(CONFIG['model_checkpoint'], model_max_length= CONFIG['max_length'])"
   ]
  },
  {
   "cell_type": "markdown",
   "id": "1c1157ca",
   "metadata": {
    "papermill": {
     "duration": 0.017424,
     "end_time": "2023-06-23T17:36:15.759940",
     "exception": false,
     "start_time": "2023-06-23T17:36:15.742516",
     "status": "completed"
    },
    "tags": []
   },
   "source": [
    "<p style=\"color:red; font-weight:600; font-size:35px;\">Loading the Dataset 📅</p>"
   ]
  },
  {
   "cell_type": "code",
   "execution_count": 8,
   "id": "36c057c0",
   "metadata": {
    "_kg_hide-output": true,
    "execution": {
     "iopub.execute_input": "2023-06-23T17:36:15.798025Z",
     "iopub.status.busy": "2023-06-23T17:36:15.797626Z",
     "iopub.status.idle": "2023-06-23T17:36:18.265464Z",
     "shell.execute_reply": "2023-06-23T17:36:18.264541Z"
    },
    "papermill": {
     "duration": 2.490409,
     "end_time": "2023-06-23T17:36:18.268193",
     "exception": false,
     "start_time": "2023-06-23T17:36:15.777784",
     "status": "completed"
    },
    "tags": []
   },
   "outputs": [
    {
     "data": {
      "application/vnd.jupyter.widget-view+json": {
       "model_id": "6ed2c918421a43cdb18cd3dad7fe3617",
       "version_major": 2,
       "version_minor": 0
      },
      "text/plain": [
       "Downloading: 0.00B [00:00, ?B/s]"
      ]
     },
     "metadata": {},
     "output_type": "display_data"
    },
    {
     "name": "stdout",
     "output_type": "stream",
     "text": [
      "Downloading and preparing dataset csv/default (download: 12.52 MiB, generated: 18.56 MiB, post-processed: Unknown size, total: 31.08 MiB) to /root/.cache/huggingface/datasets/parquet/domenicrosati--QA2D-e810a5ba933d6655/0.0.0/0b6d5799bb726b24ad7fc7be720c170d8e497f575d02d47537de9a5bac074901...\n"
     ]
    },
    {
     "data": {
      "application/vnd.jupyter.widget-view+json": {
       "model_id": "5b00424ffa7241dda2899be71513dd2a",
       "version_major": 2,
       "version_minor": 0
      },
      "text/plain": [
       "Downloading data files:   0%|          | 0/2 [00:00<?, ?it/s]"
      ]
     },
     "metadata": {},
     "output_type": "display_data"
    },
    {
     "data": {
      "application/vnd.jupyter.widget-view+json": {
       "model_id": "86a341477cc64cb4a95c7d030efe1dcf",
       "version_major": 2,
       "version_minor": 0
      },
      "text/plain": [
       "Downloading data:   0%|          | 0.00/1.87M [00:00<?, ?B/s]"
      ]
     },
     "metadata": {},
     "output_type": "display_data"
    },
    {
     "data": {
      "application/vnd.jupyter.widget-view+json": {
       "model_id": "b5b4646ec6e34c5d80d3094f4dc378e7",
       "version_major": 2,
       "version_minor": 0
      },
      "text/plain": [
       "Downloading data:   0%|          | 0.00/11.3M [00:00<?, ?B/s]"
      ]
     },
     "metadata": {},
     "output_type": "display_data"
    },
    {
     "data": {
      "application/vnd.jupyter.widget-view+json": {
       "model_id": "679cc4405f26459e84a5059de779e075",
       "version_major": 2,
       "version_minor": 0
      },
      "text/plain": [
       "Extracting data files:   0%|          | 0/2 [00:00<?, ?it/s]"
      ]
     },
     "metadata": {},
     "output_type": "display_data"
    },
    {
     "name": "stdout",
     "output_type": "stream",
     "text": [
      "Dataset parquet downloaded and prepared to /root/.cache/huggingface/datasets/parquet/domenicrosati--QA2D-e810a5ba933d6655/0.0.0/0b6d5799bb726b24ad7fc7be720c170d8e497f575d02d47537de9a5bac074901. Subsequent calls will reuse this data.\n"
     ]
    },
    {
     "data": {
      "application/vnd.jupyter.widget-view+json": {
       "model_id": "690b47ca874e40fe852e1020b167e455",
       "version_major": 2,
       "version_minor": 0
      },
      "text/plain": [
       "  0%|          | 0/2 [00:00<?, ?it/s]"
      ]
     },
     "metadata": {},
     "output_type": "display_data"
    }
   ],
   "source": [
    "df = load_dataset(\"domenicrosati/QA2D\")"
   ]
  },
  {
   "cell_type": "code",
   "execution_count": 9,
   "id": "3f26d3f0",
   "metadata": {
    "execution": {
     "iopub.execute_input": "2023-06-23T17:36:18.308953Z",
     "iopub.status.busy": "2023-06-23T17:36:18.308599Z",
     "iopub.status.idle": "2023-06-23T17:36:18.323253Z",
     "shell.execute_reply": "2023-06-23T17:36:18.322385Z"
    },
    "papermill": {
     "duration": 0.037866,
     "end_time": "2023-06-23T17:36:18.325872",
     "exception": false,
     "start_time": "2023-06-23T17:36:18.288006",
     "status": "completed"
    },
    "tags": []
   },
   "outputs": [],
   "source": [
    "df = df.rename_column('question', 'input')\n",
    "df = df.rename_column('turker_answer','target')"
   ]
  },
  {
   "cell_type": "code",
   "execution_count": 10,
   "id": "d5bb0ff2",
   "metadata": {
    "execution": {
     "iopub.execute_input": "2023-06-23T17:36:18.365716Z",
     "iopub.status.busy": "2023-06-23T17:36:18.365380Z",
     "iopub.status.idle": "2023-06-23T17:36:18.416402Z",
     "shell.execute_reply": "2023-06-23T17:36:18.415584Z"
    },
    "papermill": {
     "duration": 0.073609,
     "end_time": "2023-06-23T17:36:18.419020",
     "exception": false,
     "start_time": "2023-06-23T17:36:18.345411",
     "status": "completed"
    },
    "tags": []
   },
   "outputs": [],
   "source": [
    "#Taking only 70% of data for training\n",
    "df['train']= df['train'].train_test_split(test_size=0.7)['train']"
   ]
  },
  {
   "cell_type": "code",
   "execution_count": 11,
   "id": "73912756",
   "metadata": {
    "execution": {
     "iopub.execute_input": "2023-06-23T17:36:18.458972Z",
     "iopub.status.busy": "2023-06-23T17:36:18.458650Z",
     "iopub.status.idle": "2023-06-23T17:36:18.465442Z",
     "shell.execute_reply": "2023-06-23T17:36:18.464431Z"
    },
    "papermill": {
     "duration": 0.032723,
     "end_time": "2023-06-23T17:36:18.471073",
     "exception": false,
     "start_time": "2023-06-23T17:36:18.438350",
     "status": "completed"
    },
    "tags": []
   },
   "outputs": [
    {
     "name": "stdout",
     "output_type": "stream",
     "text": [
      "Dataset({\n",
      "    features: ['dataset', 'example_uid', 'input', 'answer', 'target', 'rule-based'],\n",
      "    num_rows: 18213\n",
      "})\n",
      "Dataset({\n",
      "    features: ['dataset', 'example_uid', 'input', 'answer', 'target', 'rule-based'],\n",
      "    num_rows: 10344\n",
      "})\n"
     ]
    }
   ],
   "source": [
    "print(df['train'])\n",
    "print(df['dev'])"
   ]
  },
  {
   "cell_type": "code",
   "execution_count": 12,
   "id": "c7379067",
   "metadata": {
    "execution": {
     "iopub.execute_input": "2023-06-23T17:36:18.510801Z",
     "iopub.status.busy": "2023-06-23T17:36:18.510459Z",
     "iopub.status.idle": "2023-06-23T17:36:20.080668Z",
     "shell.execute_reply": "2023-06-23T17:36:20.079810Z"
    },
    "papermill": {
     "duration": 1.592945,
     "end_time": "2023-06-23T17:36:20.083207",
     "exception": false,
     "start_time": "2023-06-23T17:36:18.490262",
     "status": "completed"
    },
    "tags": []
   },
   "outputs": [
    {
     "data": {
      "application/vnd.jupyter.widget-view+json": {
       "model_id": "101cea6aed384221a247dba328fe83ef",
       "version_major": 2,
       "version_minor": 0
      },
      "text/plain": [
       "  0%|          | 0/11 [00:00<?, ?ba/s]"
      ]
     },
     "metadata": {},
     "output_type": "display_data"
    },
    {
     "data": {
      "application/vnd.jupyter.widget-view+json": {
       "model_id": "dac69bfc8772447fbab0038544296cb1",
       "version_major": 2,
       "version_minor": 0
      },
      "text/plain": [
       "  0%|          | 0/19 [00:00<?, ?ba/s]"
      ]
     },
     "metadata": {},
     "output_type": "display_data"
    },
    {
     "name": "stdout",
     "output_type": "stream",
     "text": [
      "DatasetDict({\n",
      "    dev: Dataset({\n",
      "        features: ['dataset', 'example_uid', 'input', 'answer', 'target', 'rule-based'],\n",
      "        num_rows: 10344\n",
      "    })\n",
      "    train: Dataset({\n",
      "        features: ['dataset', 'example_uid', 'input', 'answer', 'target', 'rule-based'],\n",
      "        num_rows: 18213\n",
      "    })\n",
      "})\n"
     ]
    }
   ],
   "source": [
    "dataset = df\n",
    "dataset = dataset.filter(lambda example: example[\"answer\"] is not None)\n",
    "print(dataset)"
   ]
  },
  {
   "cell_type": "code",
   "execution_count": 13,
   "id": "c6127bba",
   "metadata": {
    "execution": {
     "iopub.execute_input": "2023-06-23T17:36:20.125702Z",
     "iopub.status.busy": "2023-06-23T17:36:20.125342Z",
     "iopub.status.idle": "2023-06-23T17:36:20.133086Z",
     "shell.execute_reply": "2023-06-23T17:36:20.132264Z"
    },
    "papermill": {
     "duration": 0.031674,
     "end_time": "2023-06-23T17:36:20.135631",
     "exception": false,
     "start_time": "2023-06-23T17:36:20.103957",
     "status": "completed"
    },
    "tags": []
   },
   "outputs": [
    {
     "data": {
      "text/plain": [
       "{'dataset': 'SQuAD',\n",
       " 'example_uid': '572c82d4dfb02c14005c6b8a',\n",
       " 'input': 'In 2008 , what percentage of Tennessee residents were born outside the South ?',\n",
       " 'answer': 'Twenty percent',\n",
       " 'target': 'In 2008 , twenty percent of Tennessee residents were born outside the South .',\n",
       " 'rule-based': 'In 2008 , twenty percent were born outside the South .'}"
      ]
     },
     "execution_count": 13,
     "metadata": {},
     "output_type": "execute_result"
    }
   ],
   "source": [
    "#Check some data\n",
    "dataset['train'][1233]"
   ]
  },
  {
   "cell_type": "code",
   "execution_count": 14,
   "id": "d1b7af31",
   "metadata": {
    "execution": {
     "iopub.execute_input": "2023-06-23T17:36:20.176326Z",
     "iopub.status.busy": "2023-06-23T17:36:20.176023Z",
     "iopub.status.idle": "2023-06-23T17:36:20.197201Z",
     "shell.execute_reply": "2023-06-23T17:36:20.196345Z"
    },
    "papermill": {
     "duration": 0.044305,
     "end_time": "2023-06-23T17:36:20.199920",
     "exception": false,
     "start_time": "2023-06-23T17:36:20.155615",
     "status": "completed"
    },
    "tags": []
   },
   "outputs": [
    {
     "name": "stdout",
     "output_type": "stream",
     "text": [
      "The way tokenizer would tokenize the dataset:\n",
      " In 2008, what percentage of Tennessee residents</s> Twenty percent</s>\n"
     ]
    }
   ],
   "source": [
    "# Testing the tokenization\n",
    "t=tokenizer(dataset['train'][1233]['input'],dataset['train'][1233]['answer'],add_special_tokens=True,\n",
    "            max_length=13,\n",
    "            padding = 'max_length',\n",
    "            truncation='only_first',\n",
    "            return_attention_mask=True,\n",
    "            return_tensors=\"pt\"\n",
    "        )\n",
    "input_ids = t['input_ids'].squeeze().tolist()\n",
    "\n",
    "print(\"The way tokenizer would tokenize the dataset:\\n\",tokenizer.decode(input_ids))"
   ]
  },
  {
   "cell_type": "markdown",
   "id": "7c3d6863",
   "metadata": {
    "papermill": {
     "duration": 0.020044,
     "end_time": "2023-06-23T17:36:20.240053",
     "exception": false,
     "start_time": "2023-06-23T17:36:20.220009",
     "status": "completed"
    },
    "tags": []
   },
   "source": [
    "<p style=\"color:red; font-weight:600; font-size:35px;\">Dataset Class 🏛️</p>"
   ]
  },
  {
   "cell_type": "code",
   "execution_count": 15,
   "id": "27aaf7db",
   "metadata": {
    "execution": {
     "iopub.execute_input": "2023-06-23T17:36:20.281943Z",
     "iopub.status.busy": "2023-06-23T17:36:20.281608Z",
     "iopub.status.idle": "2023-06-23T17:36:20.297943Z",
     "shell.execute_reply": "2023-06-23T17:36:20.297094Z"
    },
    "papermill": {
     "duration": 0.040097,
     "end_time": "2023-06-23T17:36:20.300614",
     "exception": false,
     "start_time": "2023-06-23T17:36:20.260517",
     "status": "completed"
    },
    "tags": []
   },
   "outputs": [],
   "source": [
    "class FillupsDataset(Dataset):\n",
    "\n",
    "    def __init__(self, dataframe, tokenizer, source_max_len, ans_max_len):\n",
    "        self.tokenizer = tokenizer\n",
    "        self.data = dataframe\n",
    "        self.source_len = source_max_len\n",
    "        self.ans_len = ans_max_len\n",
    "        self.question = dataframe['input']\n",
    "        self.answer = dataframe['answer']\n",
    "        self.target = dataframe['target']\n",
    "\n",
    "    def __len__(self):\n",
    "        return len(self.question)\n",
    "\n",
    "    def __getitem__(self, index):\n",
    "        question = str(self.question[index])\n",
    "        question = ' '.join(question.split())\n",
    "        \n",
    "        answer = str(self.answer[index])\n",
    "        answer = ' '.join(answer.split())\n",
    "\n",
    "        target = str(self.target[index])\n",
    "        target = ' '.join(target.split())\n",
    "\n",
    "        source_encoding = self.tokenizer(\n",
    "            question,\n",
    "            answer,\n",
    "            add_special_tokens=True,\n",
    "            max_length=self.source_len,\n",
    "            padding = 'max_length',\n",
    "            truncation='only_first',\n",
    "            return_attention_mask=True,\n",
    "            return_tensors=\"pt\"\n",
    "        )\n",
    "        \n",
    "        target_encoding = self.tokenizer(\n",
    "            target,\n",
    "            None,\n",
    "            add_special_tokens=True,\n",
    "            max_length=self.ans_len,\n",
    "            padding = 'max_length',\n",
    "            truncation= True,\n",
    "            return_attention_mask=True,\n",
    "            return_tensors=\"pt\"\n",
    "        )\n",
    "        \n",
    "        source_ids = source_encoding['input_ids'].flatten()\n",
    "        source_mask = source_encoding['attention_mask'].flatten()\n",
    "        target_ids = target_encoding['input_ids']\n",
    "        y = target_encoding['input_ids'].clone().flatten()\n",
    "        target_ids[target_ids == 0] = -100 \n",
    "        target_ids = target_ids.flatten()\n",
    "\n",
    "        \n",
    "        return {\n",
    "            'question': question,\n",
    "            'answer':answer,\n",
    "            'target':target,\n",
    "            'source_ids': source_ids,\n",
    "            'source_mask': source_mask, \n",
    "            'target_ids': target_ids,\n",
    "            'y':y\n",
    "        }"
   ]
  },
  {
   "cell_type": "code",
   "execution_count": 16,
   "id": "144972f2",
   "metadata": {
    "execution": {
     "iopub.execute_input": "2023-06-23T17:36:20.342277Z",
     "iopub.status.busy": "2023-06-23T17:36:20.341964Z",
     "iopub.status.idle": "2023-06-23T17:36:21.077229Z",
     "shell.execute_reply": "2023-06-23T17:36:21.076322Z"
    },
    "papermill": {
     "duration": 0.758848,
     "end_time": "2023-06-23T17:36:21.079951",
     "exception": false,
     "start_time": "2023-06-23T17:36:20.321103",
     "status": "completed"
    },
    "tags": []
   },
   "outputs": [
    {
     "name": "stdout",
     "output_type": "stream",
     "text": [
      "Length of Dataset is : 18213\n"
     ]
    },
    {
     "data": {
      "text/plain": [
       "{'question': 'After an accidental assention of a bill with same name in 1976 , when did a similar mistaken assention occur in Australia ?',\n",
       " 'answer': '2001',\n",
       " 'target': 'After an accidental assention of a bill with the same name in 1976 , a similar mistaken assention occurred in Australia in 2001 .',\n",
       " 'source_ids': tensor([  621,    46, 24306,    38,     7,    35,  1575,    13,     3,     9,\n",
       "          2876,    28,   337,   564,    16, 16164,     3,     1,  4402,     1]),\n",
       " 'source_mask': tensor([1, 1, 1, 1, 1, 1, 1, 1, 1, 1, 1, 1, 1, 1, 1, 1, 1, 1, 1, 1]),\n",
       " 'target_ids': tensor([  621,    46, 24306,    38,     7,    35,  1575,    13,     3,     9,\n",
       "          2876,    28,     8,   337,   564,    16, 16164,     3,     6,     1]),\n",
       " 'y': tensor([  621,    46, 24306,    38,     7,    35,  1575,    13,     3,     9,\n",
       "          2876,    28,     8,   337,   564,    16, 16164,     3,     6,     1])}"
      ]
     },
     "execution_count": 16,
     "metadata": {},
     "output_type": "execute_result"
    }
   ],
   "source": [
    "# Testing the Dataset Class\n",
    "DummyDataset = FillupsDataset(dataset[\"train\"], tokenizer,20,20)\n",
    "print(f\"Length of Dataset is : {len(DummyDataset)}\")\n",
    "DummyDataset.__getitem__(34)"
   ]
  },
  {
   "cell_type": "markdown",
   "id": "5bcdcb6b",
   "metadata": {
    "papermill": {
     "duration": 0.020495,
     "end_time": "2023-06-23T17:36:21.137699",
     "exception": false,
     "start_time": "2023-06-23T17:36:21.117204",
     "status": "completed"
    },
    "tags": []
   },
   "source": [
    "<p style=\"color:red; font-weight:600; font-size:35px;\">Data Module 💁</p>"
   ]
  },
  {
   "cell_type": "code",
   "execution_count": 17,
   "id": "6c99cf73",
   "metadata": {
    "execution": {
     "iopub.execute_input": "2023-06-23T17:36:21.183968Z",
     "iopub.status.busy": "2023-06-23T17:36:21.183525Z",
     "iopub.status.idle": "2023-06-23T17:36:21.196495Z",
     "shell.execute_reply": "2023-06-23T17:36:21.195610Z"
    },
    "papermill": {
     "duration": 0.048665,
     "end_time": "2023-06-23T17:36:21.207448",
     "exception": false,
     "start_time": "2023-06-23T17:36:21.158783",
     "status": "completed"
    },
    "tags": []
   },
   "outputs": [
    {
     "data": {
      "text/plain": [
       "{'max_length': 512,\n",
       " 'device': device(type='cuda'),\n",
       " 'ans_max_length': 128,\n",
       " 'num_beams': 3,\n",
       " 'batch_size': 8,\n",
       " 'epochs': 4,\n",
       " 'model_checkpoint': 't5-base',\n",
       " 'lr': 0.0001,\n",
       " 'warmup_steps': 3000,\n",
       " 'training_steps': 20000}"
      ]
     },
     "execution_count": 17,
     "metadata": {},
     "output_type": "execute_result"
    }
   ],
   "source": [
    "# Printing the config dictionary containing hyperparameters\n",
    "CONFIG"
   ]
  },
  {
   "cell_type": "code",
   "execution_count": 18,
   "id": "be12a81f",
   "metadata": {
    "execution": {
     "iopub.execute_input": "2023-06-23T17:36:21.257721Z",
     "iopub.status.busy": "2023-06-23T17:36:21.257362Z",
     "iopub.status.idle": "2023-06-23T17:36:21.269727Z",
     "shell.execute_reply": "2023-06-23T17:36:21.268797Z"
    },
    "papermill": {
     "duration": 0.037317,
     "end_time": "2023-06-23T17:36:21.272680",
     "exception": false,
     "start_time": "2023-06-23T17:36:21.235363",
     "status": "completed"
    },
    "tags": []
   },
   "outputs": [],
   "source": [
    "class FillupsDatasetModule(pl.LightningDataModule):\n",
    "\n",
    "    def __init__(self, df_train, df_valid, tokenizer,source_max_len, target_max_len):\n",
    "        super().__init__()\n",
    "        self.df_train = df_train\n",
    "        self.df_valid = df_valid\n",
    "        self.tokenizer = tokenizer\n",
    "        self.source_len = source_max_len\n",
    "        self.ans_len = target_max_len\n",
    "\n",
    "\n",
    "    def setup(self, stage=None):\n",
    "\n",
    "        self.train_dataset = FillupsDataset(\n",
    "        dataframe = self.df_train,\n",
    "        tokenizer = self.tokenizer,\n",
    "        source_max_len = self.source_len,\n",
    "        ans_max_len = self.ans_len\n",
    "        )\n",
    "\n",
    "        self.valid_dataset = FillupsDataset(\n",
    "        dataframe = self.df_valid,\n",
    "        tokenizer = self.tokenizer,\n",
    "        source_max_len = self.source_len,\n",
    "        ans_max_len = self.ans_len\n",
    "        )\n",
    "\n",
    "    def train_dataloader(self):\n",
    "        return DataLoader(\n",
    "         self.train_dataset,\n",
    "         batch_size= CONFIG['batch_size'],\n",
    "         shuffle=True, \n",
    "         num_workers=2\n",
    "        )\n",
    "\n",
    "\n",
    "    def val_dataloader(self):\n",
    "        return DataLoader(\n",
    "         self.valid_dataset,\n",
    "         batch_size= CONFIG['batch_size'],\n",
    "         num_workers=1\n",
    "        )"
   ]
  },
  {
   "cell_type": "markdown",
   "id": "35c323c2",
   "metadata": {
    "papermill": {
     "duration": 0.020299,
     "end_time": "2023-06-23T17:36:21.313527",
     "exception": false,
     "start_time": "2023-06-23T17:36:21.293228",
     "status": "completed"
    },
    "tags": []
   },
   "source": [
    "<p style=\"color:red; font-weight:600; font-size:35px;\">Model 🙌</p>"
   ]
  },
  {
   "cell_type": "markdown",
   "id": "fcd7c55e",
   "metadata": {
    "papermill": {
     "duration": 0.02039,
     "end_time": "2023-06-23T17:36:21.354707",
     "exception": false,
     "start_time": "2023-06-23T17:36:21.334317",
     "status": "completed"
    },
    "tags": []
   },
   "source": [
    "<div style=\"color:white;\n",
    "           display:fill;\n",
    "           border-radius:5px;\n",
    "           background-color:#5642C5;\n",
    "           font-size:auto;\n",
    "           font-family:Verdana;\">\n",
    "\n",
    "<p style=\"padding: 10px; color:white;\"> I have used Adam optimizer with learning rate scheduler that allows a gradual increase of the learning rate during the initial warm-up phase and then applies a linear decay schedule!\n",
    "</p>\n",
    "</div>"
   ]
  },
  {
   "cell_type": "code",
   "execution_count": 19,
   "id": "ae6719e0",
   "metadata": {
    "execution": {
     "iopub.execute_input": "2023-06-23T17:36:21.397353Z",
     "iopub.status.busy": "2023-06-23T17:36:21.397021Z",
     "iopub.status.idle": "2023-06-23T17:36:21.418099Z",
     "shell.execute_reply": "2023-06-23T17:36:21.417264Z"
    },
    "papermill": {
     "duration": 0.046405,
     "end_time": "2023-06-23T17:36:21.421590",
     "exception": false,
     "start_time": "2023-06-23T17:36:21.375185",
     "status": "completed"
    },
    "tags": []
   },
   "outputs": [],
   "source": [
    "class FillupsModel(pl.LightningModule):\n",
    "    \n",
    "    def __init__(self):\n",
    "        super().__init__()\n",
    "        self.model = T5ForConditionalGeneration.from_pretrained(CONFIG['model_checkpoint'], return_dict=True)\n",
    "        self.learning_rate = CONFIG['lr']\n",
    "        self.targets = []\n",
    "        self.predictions = []\n",
    "        self.save_hyperparameters()\n",
    "        \n",
    "    # Forward pass    \n",
    "    def forward(self, input_ids, attention_mask, labels=None):\n",
    "\n",
    "        output = self.model(\n",
    "            input_ids=input_ids, \n",
    "            attention_mask=attention_mask, \n",
    "            labels=labels\n",
    "        )\n",
    "\n",
    "        return output.loss, output.logits\n",
    "\n",
    "    # During training phase\n",
    "    def training_step(self, batch, batch_idx):\n",
    "\n",
    "        input_ids = batch[\"source_ids\"]\n",
    "        attention_mask = batch[\"source_mask\"]\n",
    "        labels= batch[\"target_ids\"]\n",
    "        loss, outputs = self(input_ids, attention_mask, labels)\n",
    "        self.log(\"train_loss\", loss)\n",
    "\n",
    "        return loss\n",
    "\n",
    "    # During testing phase\n",
    "    def validation_step(self, batch, batch_idx):\n",
    "        \n",
    "        input_ids = batch[\"source_ids\"]\n",
    "        attention_mask = batch[\"source_mask\"]\n",
    "        labels= batch[\"target_ids\"]\n",
    "        y = batch[\"y\"]\n",
    "  \n",
    "        loss, outputs = self(input_ids, attention_mask, labels)\n",
    "        \n",
    "        generated_ids = self.model.generate(\n",
    "                input_ids = input_ids,\n",
    "                attention_mask = attention_mask, \n",
    "                max_length= CONFIG['ans_max_length'], \n",
    "                num_beams= CONFIG['num_beams'],\n",
    "                repetition_penalty=2.1, \n",
    "                early_stopping=True\n",
    "                )\n",
    "        preds = [tokenizer.decode(g, skip_special_tokens=True, clean_up_tokenization_spaces=True) for g in generated_ids]\n",
    "        truth = [tokenizer.decode(t, skip_special_tokens=True, clean_up_tokenization_spaces=True) for t in y]\n",
    " \n",
    "        \n",
    "        self.predictions.extend(preds)\n",
    "        self.targets.extend(truth)\n",
    "        \n",
    "        self.log(\"val_loss\", loss)\n",
    "        \n",
    "        return loss\n",
    "\n",
    "    # Calculate the BLEU score at end of validation\n",
    "    def on_validation_epoch_end(self):\n",
    "        bleu_score = corpus_bleu([[actual] for actual in self.targets], self.predictions) * 100.0\n",
    "        self.targets = []\n",
    "        self.predictions = []\n",
    "        self.log('bleu_score',bleu_score)\n",
    "        return bleu_score\n",
    "    \n",
    "    # To configure optimisers and LR schedulers\n",
    "    def configure_optimizers(self):\n",
    "        optimizer = torch.optim.Adam(self.parameters(), lr=self.learning_rate)\n",
    "        scheduler = get_linear_schedule_with_warmup(\n",
    "            optimizer,\n",
    "            num_warmup_steps=CONFIG['warmup_steps'],\n",
    "            num_training_steps=CONFIG['training_steps'],\n",
    "        )\n",
    "        scheduler = {\"scheduler\": scheduler, \"interval\": \"step\", \"frequency\": 1}\n",
    "        return [optimizer], [scheduler]"
   ]
  },
  {
   "cell_type": "markdown",
   "id": "5829d538",
   "metadata": {
    "papermill": {
     "duration": 0.020466,
     "end_time": "2023-06-23T17:36:21.462895",
     "exception": false,
     "start_time": "2023-06-23T17:36:21.442429",
     "status": "completed"
    },
    "tags": []
   },
   "source": [
    "<p style=\"color:red; font-weight:600; font-size:35px;\">Training Loop 🔃</p>"
   ]
  },
  {
   "cell_type": "markdown",
   "id": "20d783ef",
   "metadata": {
    "papermill": {
     "duration": 0.020349,
     "end_time": "2023-06-23T17:36:21.509659",
     "exception": false,
     "start_time": "2023-06-23T17:36:21.489310",
     "status": "completed"
    },
    "tags": []
   },
   "source": [
    "<div style=\"color:white;\n",
    "           display:fill;\n",
    "           border-radius:5px;\n",
    "           background-color:#5642C5;\n",
    "           font-size:auto;\n",
    "           font-family:Verdana;\">\n",
    "\n",
    "<p style=\"padding: 10px; color:white;\">I have used Pytorch Lightning ⚡ for this as it simplifies distributed training across multiple GPUs or machines. Additionally, it integrates with automatic mixed-precision training, enabling faster and more memory-efficient training ! \n",
    "</p>\n",
    "</div>"
   ]
  },
  {
   "cell_type": "code",
   "execution_count": 20,
   "id": "29c785e3",
   "metadata": {
    "execution": {
     "iopub.execute_input": "2023-06-23T17:36:21.553156Z",
     "iopub.status.busy": "2023-06-23T17:36:21.552830Z",
     "iopub.status.idle": "2023-06-23T17:36:21.562697Z",
     "shell.execute_reply": "2023-06-23T17:36:21.561824Z"
    },
    "papermill": {
     "duration": 0.034334,
     "end_time": "2023-06-23T17:36:21.565354",
     "exception": false,
     "start_time": "2023-06-23T17:36:21.531020",
     "status": "completed"
    },
    "tags": []
   },
   "outputs": [],
   "source": [
    "def run():\n",
    "    \n",
    "    df_train, df_valid = train_test_split(dataset['train'], test_size=0.2, random_state=2021)\n",
    "    \n",
    "    dataModule = FillupsDatasetModule(df_train, df_valid, tokenizer, CONFIG['max_length'],CONFIG['ans_max_length'])\n",
    "    dataModule.setup()\n",
    "\n",
    "    models = FillupsModel()\n",
    " \n",
    "\n",
    "    checkpoint_callback  = ModelCheckpoint(\n",
    "        dirpath=\"/kaggle/working\",\n",
    "        filename=\"best_checkpoint\",\n",
    "        save_top_k=2,\n",
    "        verbose=True,\n",
    "        monitor=\"val_loss\",\n",
    "        mode=\"min\"\n",
    "    )\n",
    "\n",
    "\n",
    "    trainer = pl.Trainer(\n",
    "        callbacks = checkpoint_callback,\n",
    "        max_epochs= CONFIG['epochs'],\n",
    "        devices = 2,\n",
    "        accelerator=\"gpu\",\n",
    "        logger = wandb_logger,\n",
    "        precision = 16\n",
    "    )\n",
    "\n",
    "    trainer.fit(models, dataModule)\n"
   ]
  },
  {
   "cell_type": "code",
   "execution_count": 21,
   "id": "e6fba8e2",
   "metadata": {
    "execution": {
     "iopub.execute_input": "2023-06-23T17:36:21.608055Z",
     "iopub.status.busy": "2023-06-23T17:36:21.607736Z",
     "iopub.status.idle": "2023-06-23T18:58:42.113031Z",
     "shell.execute_reply": "2023-06-23T18:58:42.111419Z"
    },
    "papermill": {
     "duration": 4940.53194,
     "end_time": "2023-06-23T18:58:42.118210",
     "exception": false,
     "start_time": "2023-06-23T17:36:21.586270",
     "status": "completed"
    },
    "tags": []
   },
   "outputs": [
    {
     "data": {
      "application/vnd.jupyter.widget-view+json": {
       "model_id": "ffb3d660f8d7433e893f8392a227bbc4",
       "version_major": 2,
       "version_minor": 0
      },
      "text/plain": [
       "Downloading model.safetensors:   0%|          | 0.00/892M [00:00<?, ?B/s]"
      ]
     },
     "metadata": {},
     "output_type": "display_data"
    },
    {
     "data": {
      "application/vnd.jupyter.widget-view+json": {
       "model_id": "f1be97fd096f4ad896b2c118e46da95e",
       "version_major": 2,
       "version_minor": 0
      },
      "text/plain": [
       "Downloading (…)neration_config.json:   0%|          | 0.00/147 [00:00<?, ?B/s]"
      ]
     },
     "metadata": {},
     "output_type": "display_data"
    }
   ],
   "source": [
    "# To start the fine tuning!\n",
    "run()"
   ]
  },
  {
   "cell_type": "markdown",
   "id": "cea2b9c0",
   "metadata": {
    "papermill": {
     "duration": 0.020839,
     "end_time": "2023-06-23T18:58:42.161301",
     "exception": false,
     "start_time": "2023-06-23T18:58:42.140462",
     "status": "completed"
    },
    "tags": []
   },
   "source": [
    "<p style=\"color:red; font-weight:600; font-size:35px;\">Model evaluation ✒️</p>"
   ]
  },
  {
   "cell_type": "code",
   "execution_count": 22,
   "id": "d04d69e9",
   "metadata": {
    "execution": {
     "iopub.execute_input": "2023-06-23T18:58:42.204786Z",
     "iopub.status.busy": "2023-06-23T18:58:42.204362Z",
     "iopub.status.idle": "2023-06-23T18:58:56.805929Z",
     "shell.execute_reply": "2023-06-23T18:58:56.805030Z"
    },
    "papermill": {
     "duration": 14.625968,
     "end_time": "2023-06-23T18:58:56.807971",
     "exception": false,
     "start_time": "2023-06-23T18:58:42.182003",
     "status": "completed"
    },
    "tags": []
   },
   "outputs": [
    {
     "name": "stderr",
     "output_type": "stream",
     "text": [
      "\u001b[34m\u001b[1mwandb\u001b[0m: Downloading large artifact model-9ouqiax8:v2, 2551.26MB. 1 files... \n",
      "\u001b[34m\u001b[1mwandb\u001b[0m:   1 of 1 files downloaded.  \n",
      "Done. 0:0:14.2\n"
     ]
    }
   ],
   "source": [
    "# Loading the saved artifact from wandb\n",
    "run = wandb.init()\n",
    "artifact = run.use_artifact('wordless-souls/Text2Questions/model-9ouqiax8:v2', type='model')\n",
    "model = artifact.download()"
   ]
  },
  {
   "cell_type": "code",
   "execution_count": 23,
   "id": "d036092c",
   "metadata": {
    "execution": {
     "iopub.execute_input": "2023-06-23T18:58:56.839999Z",
     "iopub.status.busy": "2023-06-23T18:58:56.839695Z",
     "iopub.status.idle": "2023-06-23T18:58:57.607921Z",
     "shell.execute_reply": "2023-06-23T18:58:57.606451Z"
    },
    "papermill": {
     "duration": 0.786984,
     "end_time": "2023-06-23T18:58:57.610246",
     "exception": false,
     "start_time": "2023-06-23T18:58:56.823262",
     "status": "completed"
    },
    "tags": []
   },
   "outputs": [
    {
     "name": "stdout",
     "output_type": "stream",
     "text": [
      "Length of test datset 4137\n"
     ]
    }
   ],
   "source": [
    "# Preparing the test dataset \n",
    "test_dataset, _ = train_test_split(dataset['dev'], test_size=0.6, random_state= 420)\n",
    "print(f\"Length of test datset {len(test_dataset['answer'])}\")"
   ]
  },
  {
   "cell_type": "code",
   "execution_count": 24,
   "id": "03df9b81",
   "metadata": {
    "execution": {
     "iopub.execute_input": "2023-06-23T18:58:58.257716Z",
     "iopub.status.busy": "2023-06-23T18:58:58.256953Z",
     "iopub.status.idle": "2023-06-23T18:58:58.269086Z",
     "shell.execute_reply": "2023-06-23T18:58:58.267959Z"
    },
    "papermill": {
     "duration": 0.076916,
     "end_time": "2023-06-23T18:58:58.272656",
     "exception": false,
     "start_time": "2023-06-23T18:58:58.195740",
     "status": "completed"
    },
    "tags": []
   },
   "outputs": [],
   "source": [
    "# preparing the test data module using the Dataset class that we have defined already\n",
    "test_datamodule = FillupsDataset(\n",
    "        dataframe = test_dataset,\n",
    "        tokenizer = tokenizer,\n",
    "        source_max_len = CONFIG['max_length'],\n",
    "        ans_max_len = CONFIG['ans_max_length']\n",
    "        )"
   ]
  },
  {
   "cell_type": "code",
   "execution_count": 25,
   "id": "32ff6194",
   "metadata": {
    "execution": {
     "iopub.execute_input": "2023-06-23T18:58:58.348166Z",
     "iopub.status.busy": "2023-06-23T18:58:58.347823Z",
     "iopub.status.idle": "2023-06-23T18:58:58.354415Z",
     "shell.execute_reply": "2023-06-23T18:58:58.353528Z"
    },
    "papermill": {
     "duration": 0.040364,
     "end_time": "2023-06-23T18:58:58.356432",
     "exception": false,
     "start_time": "2023-06-23T18:58:58.316068",
     "status": "completed"
    },
    "tags": []
   },
   "outputs": [],
   "source": [
    "# Preparing the Dataloader for test\n",
    "test_loader = DataLoader(\n",
    "         test_datamodule,\n",
    "         batch_size= CONFIG['batch_size'],\n",
    "         num_workers=1\n",
    "        )"
   ]
  },
  {
   "cell_type": "markdown",
   "id": "fcc6c439",
   "metadata": {
    "papermill": {
     "duration": 0.015055,
     "end_time": "2023-06-23T18:58:58.391249",
     "exception": false,
     "start_time": "2023-06-23T18:58:58.376194",
     "status": "completed"
    },
    "tags": []
   },
   "source": [
    "<p style=\"color:red; font-weight:600; font-size:35px;\">Inference on Test Data 🧪</p>"
   ]
  },
  {
   "cell_type": "code",
   "execution_count": 26,
   "id": "cfb6327e",
   "metadata": {
    "execution": {
     "iopub.execute_input": "2023-06-23T18:58:58.423536Z",
     "iopub.status.busy": "2023-06-23T18:58:58.423255Z",
     "iopub.status.idle": "2023-06-23T19:15:41.564692Z",
     "shell.execute_reply": "2023-06-23T19:15:41.563529Z"
    },
    "papermill": {
     "duration": 1003.159653,
     "end_time": "2023-06-23T19:15:41.567032",
     "exception": false,
     "start_time": "2023-06-23T18:58:58.407379",
     "status": "completed"
    },
    "tags": []
   },
   "outputs": [
    {
     "data": {
      "application/vnd.jupyter.widget-view+json": {
       "model_id": "3fa46cf7261e4668be8f15e55d2b253e",
       "version_major": 2,
       "version_minor": 0
      },
      "text/plain": [
       "  0%|          | 0/518 [00:00<?, ?it/s]"
      ]
     },
     "metadata": {},
     "output_type": "display_data"
    }
   ],
   "source": [
    "model = FillupsModel.load_from_checkpoint(\"/kaggle/working/artifacts/model-9ouqiax8:v2/model.ckpt\")\n",
    "model.to(CONFIG['device'])\n",
    "model.freeze()\n",
    "outputs = []\n",
    "targets = []\n",
    "converted_sentences = []\n",
    "truth_sentences = []\n",
    "for batch in tqdm(test_loader):\n",
    "    outs = model.model.generate(\n",
    "        input_ids = batch[\"source_ids\"].to(CONFIG['device']),\n",
    "        attention_mask = batch[\"source_mask\"].to(CONFIG['device']),\n",
    "        max_length = CONFIG['max_length'],\n",
    "        num_beams = CONFIG['num_beams'],\n",
    "        repetition_penalty=2.1, \n",
    "        early_stopping=True,\n",
    "        )\n",
    "    \n",
    "\n",
    "    preds = [\n",
    "        tokenizer.decode(ids,\n",
    "        skip_special_tokens=True, \n",
    "        clean_up_tokenization_spaces=True)\n",
    "        for ids in outs\n",
    "    ]\n",
    "    \n",
    "    truth = [\n",
    "      tokenizer.decode(ids,\n",
    "                       skip_special_tokens=True, \n",
    "                       clean_up_tokenization_spaces=True\n",
    "                      ) for ids in batch['y']]\n",
    "  \n",
    "    outputs.extend(preds)\n",
    "    targets.extend(truth)\n"
   ]
  },
  {
   "cell_type": "markdown",
   "id": "345d879d",
   "metadata": {
    "papermill": {
     "duration": 0.015028,
     "end_time": "2023-06-23T19:15:41.597861",
     "exception": false,
     "start_time": "2023-06-23T19:15:41.582833",
     "status": "completed"
    },
    "tags": []
   },
   "source": [
    "<p style=\"color:red; font-weight:600; font-size:35px;\">Saving the results in a DataFrame 🥳</p>"
   ]
  },
  {
   "cell_type": "code",
   "execution_count": 27,
   "id": "98107b35",
   "metadata": {
    "execution": {
     "iopub.execute_input": "2023-06-23T19:15:41.629285Z",
     "iopub.status.busy": "2023-06-23T19:15:41.628929Z",
     "iopub.status.idle": "2023-06-23T19:15:41.704534Z",
     "shell.execute_reply": "2023-06-23T19:15:41.703624Z"
    },
    "papermill": {
     "duration": 0.094162,
     "end_time": "2023-06-23T19:15:41.706895",
     "exception": false,
     "start_time": "2023-06-23T19:15:41.612733",
     "status": "completed"
    },
    "tags": []
   },
   "outputs": [],
   "source": [
    "final_df = pd.DataFrame({'Generated Text':outputs,'Actual Text': targets})\n",
    "final_df.to_csv('predictions.csv', index=None)"
   ]
  },
  {
   "cell_type": "markdown",
   "id": "386fe3d6",
   "metadata": {
    "papermill": {
     "duration": 0.01483,
     "end_time": "2023-06-23T19:15:41.736924",
     "exception": false,
     "start_time": "2023-06-23T19:15:41.722094",
     "status": "completed"
    },
    "tags": []
   },
   "source": [
    "<p style=\"color:red; font-weight:600; font-size:35px;\">Calculating the metrics 🔥</p>"
   ]
  },
  {
   "cell_type": "markdown",
   "id": "2d5d829b",
   "metadata": {
    "papermill": {
     "duration": 0.014661,
     "end_time": "2023-06-23T19:15:41.766342",
     "exception": false,
     "start_time": "2023-06-23T19:15:41.751681",
     "status": "completed"
    },
    "tags": []
   },
   "source": [
    "<div style=\"color:white;\n",
    "           display:fill;\n",
    "           border-radius:5px;\n",
    "           background-color:#5642C5;\n",
    "           font-size:auto;\n",
    "           font-family:Verdana;\">\n",
    "\n",
    "<p style=\"padding: 10px; color:white;\">BLEU (Bilingual Evaluation Understudy) is a metric commonly used to evaluate the quality of machine-generated translations or text generation tasks. It measures the similarity between the generated text and one or more reference texts based on n-grams (contiguous sequences of words).\n",
    "</div>"
   ]
  },
  {
   "cell_type": "code",
   "execution_count": 28,
   "id": "7622b32a",
   "metadata": {
    "execution": {
     "iopub.execute_input": "2023-06-23T19:15:41.798370Z",
     "iopub.status.busy": "2023-06-23T19:15:41.796966Z",
     "iopub.status.idle": "2023-06-23T19:15:43.596779Z",
     "shell.execute_reply": "2023-06-23T19:15:43.595794Z"
    },
    "papermill": {
     "duration": 1.817995,
     "end_time": "2023-06-23T19:15:43.599125",
     "exception": false,
     "start_time": "2023-06-23T19:15:41.781130",
     "status": "completed"
    },
    "tags": []
   },
   "outputs": [],
   "source": [
    "bleu_score = corpus_bleu([[actual] for actual in targets], outputs) * 100.0"
   ]
  },
  {
   "cell_type": "code",
   "execution_count": 29,
   "id": "7cb8b1ef",
   "metadata": {
    "_kg_hide-input": true,
    "execution": {
     "iopub.execute_input": "2023-06-23T19:15:43.632067Z",
     "iopub.status.busy": "2023-06-23T19:15:43.631765Z",
     "iopub.status.idle": "2023-06-23T19:15:43.639242Z",
     "shell.execute_reply": "2023-06-23T19:15:43.638197Z"
    },
    "papermill": {
     "duration": 0.027212,
     "end_time": "2023-06-23T19:15:43.642009",
     "exception": false,
     "start_time": "2023-06-23T19:15:43.614797",
     "status": "completed"
    },
    "tags": []
   },
   "outputs": [
    {
     "data": {
      "text/markdown": [
       "\n",
       "<div class=\"alert alert-block alert-info\" style=\"font-size:14px; font-family:verdana;\">\n",
       "    📌 <b>BLEU Score on test dataset:</b><br> 91.92\n",
       "</div>\n"
      ],
      "text/plain": [
       "<IPython.core.display.Markdown object>"
      ]
     },
     "metadata": {},
     "output_type": "display_data"
    }
   ],
   "source": [
    "markdown_text = '''\n",
    "<div class=\"alert alert-block alert-info\" style=\"font-size:14px; font-family:verdana;\">\n",
    "    📌 <b>BLEU Score on test dataset:</b><br> {:.2f}\n",
    "</div>\n",
    "'''.format(bleu_score)\n",
    "\n",
    "from IPython.display import Markdown\n",
    "display(Markdown(markdown_text))"
   ]
  }
 ],
 "metadata": {
  "kernelspec": {
   "display_name": "Python 3",
   "language": "python",
   "name": "python3"
  },
  "language_info": {
   "codemirror_mode": {
    "name": "ipython",
    "version": 3
   },
   "file_extension": ".py",
   "mimetype": "text/x-python",
   "name": "python",
   "nbconvert_exporter": "python",
   "pygments_lexer": "ipython3",
   "version": "3.10.10"
  },
  "papermill": {
   "default_parameters": {},
   "duration": 6046.469019,
   "end_time": "2023-06-23T19:15:46.794264",
   "environment_variables": {},
   "exception": null,
   "input_path": "__notebook__.ipynb",
   "output_path": "__notebook__.ipynb",
   "parameters": {},
   "start_time": "2023-06-23T17:35:00.325245",
   "version": "2.4.0"
  },
  "widgets": {
   "application/vnd.jupyter.widget-state+json": {
    "state": {
     "001744dba7e546e6a55701b87cda9852": {
      "model_module": "@jupyter-widgets/base",
      "model_module_version": "1.2.0",
      "model_name": "LayoutModel",
      "state": {
       "_model_module": "@jupyter-widgets/base",
       "_model_module_version": "1.2.0",
       "_model_name": "LayoutModel",
       "_view_count": null,
       "_view_module": "@jupyter-widgets/base",
       "_view_module_version": "1.2.0",
       "_view_name": "LayoutView",
       "align_content": null,
       "align_items": null,
       "align_self": null,
       "border": null,
       "bottom": null,
       "display": null,
       "flex": null,
       "flex_flow": null,
       "grid_area": null,
       "grid_auto_columns": null,
       "grid_auto_flow": null,
       "grid_auto_rows": null,
       "grid_column": null,
       "grid_gap": null,
       "grid_row": null,
       "grid_template_areas": null,
       "grid_template_columns": null,
       "grid_template_rows": null,
       "height": null,
       "justify_content": null,
       "justify_items": null,
       "left": null,
       "margin": null,
       "max_height": null,
       "max_width": null,
       "min_height": null,
       "min_width": null,
       "object_fit": null,
       "object_position": null,
       "order": null,
       "overflow": null,
       "overflow_x": null,
       "overflow_y": null,
       "padding": null,
       "right": null,
       "top": null,
       "visibility": null,
       "width": null
      }
     },
     "01add3dcf73e49dc92de9ab234fb5648": {
      "model_module": "@jupyter-widgets/base",
      "model_module_version": "1.2.0",
      "model_name": "LayoutModel",
      "state": {
       "_model_module": "@jupyter-widgets/base",
       "_model_module_version": "1.2.0",
       "_model_name": "LayoutModel",
       "_view_count": null,
       "_view_module": "@jupyter-widgets/base",
       "_view_module_version": "1.2.0",
       "_view_name": "LayoutView",
       "align_content": null,
       "align_items": null,
       "align_self": null,
       "border": null,
       "bottom": null,
       "display": null,
       "flex": null,
       "flex_flow": null,
       "grid_area": null,
       "grid_auto_columns": null,
       "grid_auto_flow": null,
       "grid_auto_rows": null,
       "grid_column": null,
       "grid_gap": null,
       "grid_row": null,
       "grid_template_areas": null,
       "grid_template_columns": null,
       "grid_template_rows": null,
       "height": null,
       "justify_content": null,
       "justify_items": null,
       "left": null,
       "margin": null,
       "max_height": null,
       "max_width": null,
       "min_height": null,
       "min_width": null,
       "object_fit": null,
       "object_position": null,
       "order": null,
       "overflow": null,
       "overflow_x": null,
       "overflow_y": null,
       "padding": null,
       "right": null,
       "top": null,
       "visibility": null,
       "width": null
      }
     },
     "02cb7cccd3704a15a3c0057bf780fb2f": {
      "model_module": "@jupyter-widgets/controls",
      "model_module_version": "1.5.0",
      "model_name": "HTMLModel",
      "state": {
       "_dom_classes": [],
       "_model_module": "@jupyter-widgets/controls",
       "_model_module_version": "1.5.0",
       "_model_name": "HTMLModel",
       "_view_count": null,
       "_view_module": "@jupyter-widgets/controls",
       "_view_module_version": "1.5.0",
       "_view_name": "HTMLView",
       "description": "",
       "description_tooltip": null,
       "layout": "IPY_MODEL_5576c8b6174545789b83acd0d79109af",
       "placeholder": "​",
       "style": "IPY_MODEL_7b960f53fde14acdb8ac5257a85de418",
       "value": " 11.3M/11.3M [00:00&lt;00:00, 37.5MB/s]"
      }
     },
     "04daa56459e8440886c737122aa6fd35": {
      "model_module": "@jupyter-widgets/controls",
      "model_module_version": "1.5.0",
      "model_name": "FloatProgressModel",
      "state": {
       "_dom_classes": [],
       "_model_module": "@jupyter-widgets/controls",
       "_model_module_version": "1.5.0",
       "_model_name": "FloatProgressModel",
       "_view_count": null,
       "_view_module": "@jupyter-widgets/controls",
       "_view_module_version": "1.5.0",
       "_view_name": "ProgressView",
       "bar_style": "success",
       "description": "",
       "description_tooltip": null,
       "layout": "IPY_MODEL_067ff137602e439fa6d79234a492e011",
       "max": 891646390.0,
       "min": 0.0,
       "orientation": "horizontal",
       "style": "IPY_MODEL_d9bc7a96019b4b64a6033a147f3540a3",
       "value": 891646390.0
      }
     },
     "06685bfc48de43089922bf371da13988": {
      "model_module": "@jupyter-widgets/controls",
      "model_module_version": "1.5.0",
      "model_name": "FloatProgressModel",
      "state": {
       "_dom_classes": [],
       "_model_module": "@jupyter-widgets/controls",
       "_model_module_version": "1.5.0",
       "_model_name": "FloatProgressModel",
       "_view_count": null,
       "_view_module": "@jupyter-widgets/controls",
       "_view_module_version": "1.5.0",
       "_view_name": "ProgressView",
       "bar_style": "success",
       "description": "",
       "description_tooltip": null,
       "layout": "IPY_MODEL_74e13cafa2e1437f931b36b4c6196f79",
       "max": 2.0,
       "min": 0.0,
       "orientation": "horizontal",
       "style": "IPY_MODEL_25b8c3a981fc4bf88730d9daacacbcac",
       "value": 2.0
      }
     },
     "067ff137602e439fa6d79234a492e011": {
      "model_module": "@jupyter-widgets/base",
      "model_module_version": "1.2.0",
      "model_name": "LayoutModel",
      "state": {
       "_model_module": "@jupyter-widgets/base",
       "_model_module_version": "1.2.0",
       "_model_name": "LayoutModel",
       "_view_count": null,
       "_view_module": "@jupyter-widgets/base",
       "_view_module_version": "1.2.0",
       "_view_name": "LayoutView",
       "align_content": null,
       "align_items": null,
       "align_self": null,
       "border": null,
       "bottom": null,
       "display": null,
       "flex": null,
       "flex_flow": null,
       "grid_area": null,
       "grid_auto_columns": null,
       "grid_auto_flow": null,
       "grid_auto_rows": null,
       "grid_column": null,
       "grid_gap": null,
       "grid_row": null,
       "grid_template_areas": null,
       "grid_template_columns": null,
       "grid_template_rows": null,
       "height": null,
       "justify_content": null,
       "justify_items": null,
       "left": null,
       "margin": null,
       "max_height": null,
       "max_width": null,
       "min_height": null,
       "min_width": null,
       "object_fit": null,
       "object_position": null,
       "order": null,
       "overflow": null,
       "overflow_x": null,
       "overflow_y": null,
       "padding": null,
       "right": null,
       "top": null,
       "visibility": null,
       "width": null
      }
     },
     "06be7451250d4b8694b46c70110034ae": {
      "model_module": "@jupyter-widgets/controls",
      "model_module_version": "1.5.0",
      "model_name": "ProgressStyleModel",
      "state": {
       "_model_module": "@jupyter-widgets/controls",
       "_model_module_version": "1.5.0",
       "_model_name": "ProgressStyleModel",
       "_view_count": null,
       "_view_module": "@jupyter-widgets/base",
       "_view_module_version": "1.2.0",
       "_view_name": "StyleView",
       "bar_color": null,
       "description_width": ""
      }
     },
     "0788743c190f428ab8cff490f347a2b8": {
      "model_module": "@jupyter-widgets/base",
      "model_module_version": "1.2.0",
      "model_name": "LayoutModel",
      "state": {
       "_model_module": "@jupyter-widgets/base",
       "_model_module_version": "1.2.0",
       "_model_name": "LayoutModel",
       "_view_count": null,
       "_view_module": "@jupyter-widgets/base",
       "_view_module_version": "1.2.0",
       "_view_name": "LayoutView",
       "align_content": null,
       "align_items": null,
       "align_self": null,
       "border": null,
       "bottom": null,
       "display": null,
       "flex": null,
       "flex_flow": null,
       "grid_area": null,
       "grid_auto_columns": null,
       "grid_auto_flow": null,
       "grid_auto_rows": null,
       "grid_column": null,
       "grid_gap": null,
       "grid_row": null,
       "grid_template_areas": null,
       "grid_template_columns": null,
       "grid_template_rows": null,
       "height": null,
       "justify_content": null,
       "justify_items": null,
       "left": null,
       "margin": null,
       "max_height": null,
       "max_width": null,
       "min_height": null,
       "min_width": null,
       "object_fit": null,
       "object_position": null,
       "order": null,
       "overflow": null,
       "overflow_x": null,
       "overflow_y": null,
       "padding": null,
       "right": null,
       "top": null,
       "visibility": null,
       "width": null
      }
     },
     "101cea6aed384221a247dba328fe83ef": {
      "model_module": "@jupyter-widgets/controls",
      "model_module_version": "1.5.0",
      "model_name": "HBoxModel",
      "state": {
       "_dom_classes": [],
       "_model_module": "@jupyter-widgets/controls",
       "_model_module_version": "1.5.0",
       "_model_name": "HBoxModel",
       "_view_count": null,
       "_view_module": "@jupyter-widgets/controls",
       "_view_module_version": "1.5.0",
       "_view_name": "HBoxView",
       "box_style": "",
       "children": [
        "IPY_MODEL_8529114411b049e8ac79858d1f55c03e",
        "IPY_MODEL_a1ad3c811922426baf0a4295cb70ba15",
        "IPY_MODEL_3578421e9da843638bb63675e01514ca"
       ],
       "layout": "IPY_MODEL_55cba87e9d7f4d68bddcf2d6b3a523c3"
      }
     },
     "12a539a815e44c2383951fedc5899c86": {
      "model_module": "@jupyter-widgets/controls",
      "model_module_version": "1.5.0",
      "model_name": "HBoxModel",
      "state": {
       "_dom_classes": [],
       "_model_module": "@jupyter-widgets/controls",
       "_model_module_version": "1.5.0",
       "_model_name": "HBoxModel",
       "_view_count": null,
       "_view_module": "@jupyter-widgets/controls",
       "_view_module_version": "1.5.0",
       "_view_name": "HBoxView",
       "box_style": "",
       "children": [
        "IPY_MODEL_edaae8b4635e4890928fffe2bd0ceb25",
        "IPY_MODEL_ffaf95af4b454656951a7ee213dfef7a",
        "IPY_MODEL_ed8a43fa67714a38a840520862251638"
       ],
       "layout": "IPY_MODEL_e10dc9ac0e064364a3511ca26f4077cc"
      }
     },
     "17b8d7d7b54a4b918bb67a512bdbe291": {
      "model_module": "@jupyter-widgets/controls",
      "model_module_version": "1.5.0",
      "model_name": "DescriptionStyleModel",
      "state": {
       "_model_module": "@jupyter-widgets/controls",
       "_model_module_version": "1.5.0",
       "_model_name": "DescriptionStyleModel",
       "_view_count": null,
       "_view_module": "@jupyter-widgets/base",
       "_view_module_version": "1.2.0",
       "_view_name": "StyleView",
       "description_width": ""
      }
     },
     "181d2309818e47a4aedb7429dceeedc5": {
      "model_module": "@jupyter-widgets/controls",
      "model_module_version": "1.5.0",
      "model_name": "ProgressStyleModel",
      "state": {
       "_model_module": "@jupyter-widgets/controls",
       "_model_module_version": "1.5.0",
       "_model_name": "ProgressStyleModel",
       "_view_count": null,
       "_view_module": "@jupyter-widgets/base",
       "_view_module_version": "1.2.0",
       "_view_name": "StyleView",
       "bar_color": null,
       "description_width": ""
      }
     },
     "1a370c2c56f24f959d47f227274f20c9": {
      "model_module": "@jupyter-widgets/base",
      "model_module_version": "1.2.0",
      "model_name": "LayoutModel",
      "state": {
       "_model_module": "@jupyter-widgets/base",
       "_model_module_version": "1.2.0",
       "_model_name": "LayoutModel",
       "_view_count": null,
       "_view_module": "@jupyter-widgets/base",
       "_view_module_version": "1.2.0",
       "_view_name": "LayoutView",
       "align_content": null,
       "align_items": null,
       "align_self": null,
       "border": null,
       "bottom": null,
       "display": null,
       "flex": null,
       "flex_flow": null,
       "grid_area": null,
       "grid_auto_columns": null,
       "grid_auto_flow": null,
       "grid_auto_rows": null,
       "grid_column": null,
       "grid_gap": null,
       "grid_row": null,
       "grid_template_areas": null,
       "grid_template_columns": null,
       "grid_template_rows": null,
       "height": null,
       "justify_content": null,
       "justify_items": null,
       "left": null,
       "margin": null,
       "max_height": null,
       "max_width": null,
       "min_height": null,
       "min_width": null,
       "object_fit": null,
       "object_position": null,
       "order": null,
       "overflow": null,
       "overflow_x": null,
       "overflow_y": null,
       "padding": null,
       "right": null,
       "top": null,
       "visibility": null,
       "width": null
      }
     },
     "1c72dd8ef0ee449097a6e4efe539951b": {
      "model_module": "@jupyter-widgets/base",
      "model_module_version": "1.2.0",
      "model_name": "LayoutModel",
      "state": {
       "_model_module": "@jupyter-widgets/base",
       "_model_module_version": "1.2.0",
       "_model_name": "LayoutModel",
       "_view_count": null,
       "_view_module": "@jupyter-widgets/base",
       "_view_module_version": "1.2.0",
       "_view_name": "LayoutView",
       "align_content": null,
       "align_items": null,
       "align_self": null,
       "border": null,
       "bottom": null,
       "display": null,
       "flex": null,
       "flex_flow": null,
       "grid_area": null,
       "grid_auto_columns": null,
       "grid_auto_flow": null,
       "grid_auto_rows": null,
       "grid_column": null,
       "grid_gap": null,
       "grid_row": null,
       "grid_template_areas": null,
       "grid_template_columns": null,
       "grid_template_rows": null,
       "height": null,
       "justify_content": null,
       "justify_items": null,
       "left": null,
       "margin": null,
       "max_height": null,
       "max_width": null,
       "min_height": null,
       "min_width": null,
       "object_fit": null,
       "object_position": null,
       "order": null,
       "overflow": null,
       "overflow_x": null,
       "overflow_y": null,
       "padding": null,
       "right": null,
       "top": null,
       "visibility": null,
       "width": null
      }
     },
     "1c9b4602d0a54240821f78377d19a62b": {
      "model_module": "@jupyter-widgets/controls",
      "model_module_version": "1.5.0",
      "model_name": "ProgressStyleModel",
      "state": {
       "_model_module": "@jupyter-widgets/controls",
       "_model_module_version": "1.5.0",
       "_model_name": "ProgressStyleModel",
       "_view_count": null,
       "_view_module": "@jupyter-widgets/base",
       "_view_module_version": "1.2.0",
       "_view_name": "StyleView",
       "bar_color": null,
       "description_width": ""
      }
     },
     "1caa030d1584496f8ea800afa5aa492f": {
      "model_module": "@jupyter-widgets/controls",
      "model_module_version": "1.5.0",
      "model_name": "DescriptionStyleModel",
      "state": {
       "_model_module": "@jupyter-widgets/controls",
       "_model_module_version": "1.5.0",
       "_model_name": "DescriptionStyleModel",
       "_view_count": null,
       "_view_module": "@jupyter-widgets/base",
       "_view_module_version": "1.2.0",
       "_view_name": "StyleView",
       "description_width": ""
      }
     },
     "1ded65c44b56435f8bb6566eb4472743": {
      "model_module": "@jupyter-widgets/controls",
      "model_module_version": "1.5.0",
      "model_name": "HTMLModel",
      "state": {
       "_dom_classes": [],
       "_model_module": "@jupyter-widgets/controls",
       "_model_module_version": "1.5.0",
       "_model_name": "HTMLModel",
       "_view_count": null,
       "_view_module": "@jupyter-widgets/controls",
       "_view_module_version": "1.5.0",
       "_view_name": "HTMLView",
       "description": "",
       "description_tooltip": null,
       "layout": "IPY_MODEL_6a6489361bff4fe09db478a94eab54ba",
       "placeholder": "​",
       "style": "IPY_MODEL_d5297ee712e0463c99fb2c5a3a825b81",
       "value": "Downloading data files: 100%"
      }
     },
     "1e05051e7aec4ee88805ba736a357c3a": {
      "model_module": "@jupyter-widgets/controls",
      "model_module_version": "1.5.0",
      "model_name": "DescriptionStyleModel",
      "state": {
       "_model_module": "@jupyter-widgets/controls",
       "_model_module_version": "1.5.0",
       "_model_name": "DescriptionStyleModel",
       "_view_count": null,
       "_view_module": "@jupyter-widgets/base",
       "_view_module_version": "1.2.0",
       "_view_name": "StyleView",
       "description_width": ""
      }
     },
     "202acca476354989ae056da5e35c6592": {
      "model_module": "@jupyter-widgets/base",
      "model_module_version": "1.2.0",
      "model_name": "LayoutModel",
      "state": {
       "_model_module": "@jupyter-widgets/base",
       "_model_module_version": "1.2.0",
       "_model_name": "LayoutModel",
       "_view_count": null,
       "_view_module": "@jupyter-widgets/base",
       "_view_module_version": "1.2.0",
       "_view_name": "LayoutView",
       "align_content": null,
       "align_items": null,
       "align_self": null,
       "border": null,
       "bottom": null,
       "display": null,
       "flex": null,
       "flex_flow": null,
       "grid_area": null,
       "grid_auto_columns": null,
       "grid_auto_flow": null,
       "grid_auto_rows": null,
       "grid_column": null,
       "grid_gap": null,
       "grid_row": null,
       "grid_template_areas": null,
       "grid_template_columns": null,
       "grid_template_rows": null,
       "height": null,
       "justify_content": null,
       "justify_items": null,
       "left": null,
       "margin": null,
       "max_height": null,
       "max_width": null,
       "min_height": null,
       "min_width": null,
       "object_fit": null,
       "object_position": null,
       "order": null,
       "overflow": null,
       "overflow_x": null,
       "overflow_y": null,
       "padding": null,
       "right": null,
       "top": null,
       "visibility": null,
       "width": null
      }
     },
     "21edce6c9eaf4d25b42400a7d86536d1": {
      "model_module": "@jupyter-widgets/controls",
      "model_module_version": "1.5.0",
      "model_name": "DescriptionStyleModel",
      "state": {
       "_model_module": "@jupyter-widgets/controls",
       "_model_module_version": "1.5.0",
       "_model_name": "DescriptionStyleModel",
       "_view_count": null,
       "_view_module": "@jupyter-widgets/base",
       "_view_module_version": "1.2.0",
       "_view_name": "StyleView",
       "description_width": ""
      }
     },
     "259fb3be511f4c989986992a9ec4b4f3": {
      "model_module": "@jupyter-widgets/base",
      "model_module_version": "1.2.0",
      "model_name": "LayoutModel",
      "state": {
       "_model_module": "@jupyter-widgets/base",
       "_model_module_version": "1.2.0",
       "_model_name": "LayoutModel",
       "_view_count": null,
       "_view_module": "@jupyter-widgets/base",
       "_view_module_version": "1.2.0",
       "_view_name": "LayoutView",
       "align_content": null,
       "align_items": null,
       "align_self": null,
       "border": null,
       "bottom": null,
       "display": null,
       "flex": null,
       "flex_flow": null,
       "grid_area": null,
       "grid_auto_columns": null,
       "grid_auto_flow": null,
       "grid_auto_rows": null,
       "grid_column": null,
       "grid_gap": null,
       "grid_row": null,
       "grid_template_areas": null,
       "grid_template_columns": null,
       "grid_template_rows": null,
       "height": null,
       "justify_content": null,
       "justify_items": null,
       "left": null,
       "margin": null,
       "max_height": null,
       "max_width": null,
       "min_height": null,
       "min_width": null,
       "object_fit": null,
       "object_position": null,
       "order": null,
       "overflow": null,
       "overflow_x": null,
       "overflow_y": null,
       "padding": null,
       "right": null,
       "top": null,
       "visibility": null,
       "width": null
      }
     },
     "25b8c3a981fc4bf88730d9daacacbcac": {
      "model_module": "@jupyter-widgets/controls",
      "model_module_version": "1.5.0",
      "model_name": "ProgressStyleModel",
      "state": {
       "_model_module": "@jupyter-widgets/controls",
       "_model_module_version": "1.5.0",
       "_model_name": "ProgressStyleModel",
       "_view_count": null,
       "_view_module": "@jupyter-widgets/base",
       "_view_module_version": "1.2.0",
       "_view_name": "StyleView",
       "bar_color": null,
       "description_width": ""
      }
     },
     "309c2c9f57dc440899b67525b8a211d8": {
      "model_module": "@jupyter-widgets/controls",
      "model_module_version": "1.5.0",
      "model_name": "HTMLModel",
      "state": {
       "_dom_classes": [],
       "_model_module": "@jupyter-widgets/controls",
       "_model_module_version": "1.5.0",
       "_model_name": "HTMLModel",
       "_view_count": null,
       "_view_module": "@jupyter-widgets/controls",
       "_view_module_version": "1.5.0",
       "_view_name": "HTMLView",
       "description": "",
       "description_tooltip": null,
       "layout": "IPY_MODEL_b13992f881f24281908d68d1392f7bd3",
       "placeholder": "​",
       "style": "IPY_MODEL_56706ecd24b045a99478e414d30bc06c",
       "value": "Downloading: "
      }
     },
     "3578421e9da843638bb63675e01514ca": {
      "model_module": "@jupyter-widgets/controls",
      "model_module_version": "1.5.0",
      "model_name": "HTMLModel",
      "state": {
       "_dom_classes": [],
       "_model_module": "@jupyter-widgets/controls",
       "_model_module_version": "1.5.0",
       "_model_name": "HTMLModel",
       "_view_count": null,
       "_view_module": "@jupyter-widgets/controls",
       "_view_module_version": "1.5.0",
       "_view_name": "HTMLView",
       "description": "",
       "description_tooltip": null,
       "layout": "IPY_MODEL_a5cea282df7b4c0980b12b4ef3fead59",
       "placeholder": "​",
       "style": "IPY_MODEL_940508b446b6452eb6639c4e0bee7960",
       "value": " 11/11 [00:00&lt;00:00, 32.19ba/s]"
      }
     },
     "35c7238cfc2843d782bd8324a46cf8eb": {
      "model_module": "@jupyter-widgets/controls",
      "model_module_version": "1.5.0",
      "model_name": "ProgressStyleModel",
      "state": {
       "_model_module": "@jupyter-widgets/controls",
       "_model_module_version": "1.5.0",
       "_model_name": "ProgressStyleModel",
       "_view_count": null,
       "_view_module": "@jupyter-widgets/base",
       "_view_module_version": "1.2.0",
       "_view_name": "StyleView",
       "bar_color": null,
       "description_width": ""
      }
     },
     "3c17b27961d04b359287cc7044f0fad0": {
      "model_module": "@jupyter-widgets/controls",
      "model_module_version": "1.5.0",
      "model_name": "ProgressStyleModel",
      "state": {
       "_model_module": "@jupyter-widgets/controls",
       "_model_module_version": "1.5.0",
       "_model_name": "ProgressStyleModel",
       "_view_count": null,
       "_view_module": "@jupyter-widgets/base",
       "_view_module_version": "1.2.0",
       "_view_name": "StyleView",
       "bar_color": null,
       "description_width": ""
      }
     },
     "3dbe107527114c649975e0c010b26fe1": {
      "model_module": "@jupyter-widgets/controls",
      "model_module_version": "1.5.0",
      "model_name": "HTMLModel",
      "state": {
       "_dom_classes": [],
       "_model_module": "@jupyter-widgets/controls",
       "_model_module_version": "1.5.0",
       "_model_name": "HTMLModel",
       "_view_count": null,
       "_view_module": "@jupyter-widgets/controls",
       "_view_module_version": "1.5.0",
       "_view_name": "HTMLView",
       "description": "",
       "description_tooltip": null,
       "layout": "IPY_MODEL_1a370c2c56f24f959d47f227274f20c9",
       "placeholder": "​",
       "style": "IPY_MODEL_b629e5234b6840e69e5876340479a3af",
       "value": " 19/19 [00:01&lt;00:00, 15.94ba/s]"
      }
     },
     "3e424c05a2ad444b871685cb53184900": {
      "model_module": "@jupyter-widgets/base",
      "model_module_version": "1.2.0",
      "model_name": "LayoutModel",
      "state": {
       "_model_module": "@jupyter-widgets/base",
       "_model_module_version": "1.2.0",
       "_model_name": "LayoutModel",
       "_view_count": null,
       "_view_module": "@jupyter-widgets/base",
       "_view_module_version": "1.2.0",
       "_view_name": "LayoutView",
       "align_content": null,
       "align_items": null,
       "align_self": null,
       "border": null,
       "bottom": null,
       "display": null,
       "flex": null,
       "flex_flow": null,
       "grid_area": null,
       "grid_auto_columns": null,
       "grid_auto_flow": null,
       "grid_auto_rows": null,
       "grid_column": null,
       "grid_gap": null,
       "grid_row": null,
       "grid_template_areas": null,
       "grid_template_columns": null,
       "grid_template_rows": null,
       "height": null,
       "justify_content": null,
       "justify_items": null,
       "left": null,
       "margin": null,
       "max_height": null,
       "max_width": null,
       "min_height": null,
       "min_width": null,
       "object_fit": null,
       "object_position": null,
       "order": null,
       "overflow": null,
       "overflow_x": null,
       "overflow_y": null,
       "padding": null,
       "right": null,
       "top": null,
       "visibility": null,
       "width": null
      }
     },
     "3fa46cf7261e4668be8f15e55d2b253e": {
      "model_module": "@jupyter-widgets/controls",
      "model_module_version": "1.5.0",
      "model_name": "HBoxModel",
      "state": {
       "_dom_classes": [],
       "_model_module": "@jupyter-widgets/controls",
       "_model_module_version": "1.5.0",
       "_model_name": "HBoxModel",
       "_view_count": null,
       "_view_module": "@jupyter-widgets/controls",
       "_view_module_version": "1.5.0",
       "_view_name": "HBoxView",
       "box_style": "",
       "children": [
        "IPY_MODEL_c5bba0cbb6744e20bf2f6ea0918a61ff",
        "IPY_MODEL_bc16436ae2d54dadb8bb762f28ac0814",
        "IPY_MODEL_b2f107e8f1514a23bc439970ae85bd4d"
       ],
       "layout": "IPY_MODEL_0788743c190f428ab8cff490f347a2b8"
      }
     },
     "44c7fc10e015496191e5c4d12f73337f": {
      "model_module": "@jupyter-widgets/base",
      "model_module_version": "1.2.0",
      "model_name": "LayoutModel",
      "state": {
       "_model_module": "@jupyter-widgets/base",
       "_model_module_version": "1.2.0",
       "_model_name": "LayoutModel",
       "_view_count": null,
       "_view_module": "@jupyter-widgets/base",
       "_view_module_version": "1.2.0",
       "_view_name": "LayoutView",
       "align_content": null,
       "align_items": null,
       "align_self": null,
       "border": null,
       "bottom": null,
       "display": null,
       "flex": null,
       "flex_flow": null,
       "grid_area": null,
       "grid_auto_columns": null,
       "grid_auto_flow": null,
       "grid_auto_rows": null,
       "grid_column": null,
       "grid_gap": null,
       "grid_row": null,
       "grid_template_areas": null,
       "grid_template_columns": null,
       "grid_template_rows": null,
       "height": null,
       "justify_content": null,
       "justify_items": null,
       "left": null,
       "margin": null,
       "max_height": null,
       "max_width": null,
       "min_height": null,
       "min_width": null,
       "object_fit": null,
       "object_position": null,
       "order": null,
       "overflow": null,
       "overflow_x": null,
       "overflow_y": null,
       "padding": null,
       "right": null,
       "top": null,
       "visibility": null,
       "width": null
      }
     },
     "44ed4d3179b146ed85f623105065e13b": {
      "model_module": "@jupyter-widgets/base",
      "model_module_version": "1.2.0",
      "model_name": "LayoutModel",
      "state": {
       "_model_module": "@jupyter-widgets/base",
       "_model_module_version": "1.2.0",
       "_model_name": "LayoutModel",
       "_view_count": null,
       "_view_module": "@jupyter-widgets/base",
       "_view_module_version": "1.2.0",
       "_view_name": "LayoutView",
       "align_content": null,
       "align_items": null,
       "align_self": null,
       "border": null,
       "bottom": null,
       "display": null,
       "flex": null,
       "flex_flow": null,
       "grid_area": null,
       "grid_auto_columns": null,
       "grid_auto_flow": null,
       "grid_auto_rows": null,
       "grid_column": null,
       "grid_gap": null,
       "grid_row": null,
       "grid_template_areas": null,
       "grid_template_columns": null,
       "grid_template_rows": null,
       "height": null,
       "justify_content": null,
       "justify_items": null,
       "left": null,
       "margin": null,
       "max_height": null,
       "max_width": null,
       "min_height": null,
       "min_width": null,
       "object_fit": null,
       "object_position": null,
       "order": null,
       "overflow": null,
       "overflow_x": null,
       "overflow_y": null,
       "padding": null,
       "right": null,
       "top": null,
       "visibility": null,
       "width": null
      }
     },
     "4562f0060cc548a1b7d5f0a97f3cb9d3": {
      "model_module": "@jupyter-widgets/base",
      "model_module_version": "1.2.0",
      "model_name": "LayoutModel",
      "state": {
       "_model_module": "@jupyter-widgets/base",
       "_model_module_version": "1.2.0",
       "_model_name": "LayoutModel",
       "_view_count": null,
       "_view_module": "@jupyter-widgets/base",
       "_view_module_version": "1.2.0",
       "_view_name": "LayoutView",
       "align_content": null,
       "align_items": null,
       "align_self": null,
       "border": null,
       "bottom": null,
       "display": null,
       "flex": null,
       "flex_flow": null,
       "grid_area": null,
       "grid_auto_columns": null,
       "grid_auto_flow": null,
       "grid_auto_rows": null,
       "grid_column": null,
       "grid_gap": null,
       "grid_row": null,
       "grid_template_areas": null,
       "grid_template_columns": null,
       "grid_template_rows": null,
       "height": null,
       "justify_content": null,
       "justify_items": null,
       "left": null,
       "margin": null,
       "max_height": null,
       "max_width": null,
       "min_height": null,
       "min_width": null,
       "object_fit": null,
       "object_position": null,
       "order": null,
       "overflow": null,
       "overflow_x": null,
       "overflow_y": null,
       "padding": null,
       "right": null,
       "top": null,
       "visibility": null,
       "width": null
      }
     },
     "460bc3a846da4ec3beeb2979d8f4a0da": {
      "model_module": "@jupyter-widgets/base",
      "model_module_version": "1.2.0",
      "model_name": "LayoutModel",
      "state": {
       "_model_module": "@jupyter-widgets/base",
       "_model_module_version": "1.2.0",
       "_model_name": "LayoutModel",
       "_view_count": null,
       "_view_module": "@jupyter-widgets/base",
       "_view_module_version": "1.2.0",
       "_view_name": "LayoutView",
       "align_content": null,
       "align_items": null,
       "align_self": null,
       "border": null,
       "bottom": null,
       "display": null,
       "flex": null,
       "flex_flow": null,
       "grid_area": null,
       "grid_auto_columns": null,
       "grid_auto_flow": null,
       "grid_auto_rows": null,
       "grid_column": null,
       "grid_gap": null,
       "grid_row": null,
       "grid_template_areas": null,
       "grid_template_columns": null,
       "grid_template_rows": null,
       "height": null,
       "justify_content": null,
       "justify_items": null,
       "left": null,
       "margin": null,
       "max_height": null,
       "max_width": null,
       "min_height": null,
       "min_width": null,
       "object_fit": null,
       "object_position": null,
       "order": null,
       "overflow": null,
       "overflow_x": null,
       "overflow_y": null,
       "padding": null,
       "right": null,
       "top": null,
       "visibility": null,
       "width": null
      }
     },
     "4880d4e4582b437aaa32f12f9ed13f72": {
      "model_module": "@jupyter-widgets/controls",
      "model_module_version": "1.5.0",
      "model_name": "DescriptionStyleModel",
      "state": {
       "_model_module": "@jupyter-widgets/controls",
       "_model_module_version": "1.5.0",
       "_model_name": "DescriptionStyleModel",
       "_view_count": null,
       "_view_module": "@jupyter-widgets/base",
       "_view_module_version": "1.2.0",
       "_view_name": "StyleView",
       "description_width": ""
      }
     },
     "4989ceeb423a4a699f20927fdb4e5a34": {
      "model_module": "@jupyter-widgets/base",
      "model_module_version": "1.2.0",
      "model_name": "LayoutModel",
      "state": {
       "_model_module": "@jupyter-widgets/base",
       "_model_module_version": "1.2.0",
       "_model_name": "LayoutModel",
       "_view_count": null,
       "_view_module": "@jupyter-widgets/base",
       "_view_module_version": "1.2.0",
       "_view_name": "LayoutView",
       "align_content": null,
       "align_items": null,
       "align_self": null,
       "border": null,
       "bottom": null,
       "display": null,
       "flex": null,
       "flex_flow": null,
       "grid_area": null,
       "grid_auto_columns": null,
       "grid_auto_flow": null,
       "grid_auto_rows": null,
       "grid_column": null,
       "grid_gap": null,
       "grid_row": null,
       "grid_template_areas": null,
       "grid_template_columns": null,
       "grid_template_rows": null,
       "height": null,
       "justify_content": null,
       "justify_items": null,
       "left": null,
       "margin": null,
       "max_height": null,
       "max_width": null,
       "min_height": null,
       "min_width": null,
       "object_fit": null,
       "object_position": null,
       "order": null,
       "overflow": null,
       "overflow_x": null,
       "overflow_y": null,
       "padding": null,
       "right": null,
       "top": null,
       "visibility": null,
       "width": null
      }
     },
     "4ca6daf6e64942de83511b72054fdde2": {
      "model_module": "@jupyter-widgets/base",
      "model_module_version": "1.2.0",
      "model_name": "LayoutModel",
      "state": {
       "_model_module": "@jupyter-widgets/base",
       "_model_module_version": "1.2.0",
       "_model_name": "LayoutModel",
       "_view_count": null,
       "_view_module": "@jupyter-widgets/base",
       "_view_module_version": "1.2.0",
       "_view_name": "LayoutView",
       "align_content": null,
       "align_items": null,
       "align_self": null,
       "border": null,
       "bottom": null,
       "display": null,
       "flex": null,
       "flex_flow": null,
       "grid_area": null,
       "grid_auto_columns": null,
       "grid_auto_flow": null,
       "grid_auto_rows": null,
       "grid_column": null,
       "grid_gap": null,
       "grid_row": null,
       "grid_template_areas": null,
       "grid_template_columns": null,
       "grid_template_rows": null,
       "height": null,
       "justify_content": null,
       "justify_items": null,
       "left": null,
       "margin": null,
       "max_height": null,
       "max_width": null,
       "min_height": null,
       "min_width": null,
       "object_fit": null,
       "object_position": null,
       "order": null,
       "overflow": null,
       "overflow_x": null,
       "overflow_y": null,
       "padding": null,
       "right": null,
       "top": null,
       "visibility": null,
       "width": null
      }
     },
     "4f188371ff63476b8c7731b1127322ea": {
      "model_module": "@jupyter-widgets/base",
      "model_module_version": "1.2.0",
      "model_name": "LayoutModel",
      "state": {
       "_model_module": "@jupyter-widgets/base",
       "_model_module_version": "1.2.0",
       "_model_name": "LayoutModel",
       "_view_count": null,
       "_view_module": "@jupyter-widgets/base",
       "_view_module_version": "1.2.0",
       "_view_name": "LayoutView",
       "align_content": null,
       "align_items": null,
       "align_self": null,
       "border": null,
       "bottom": null,
       "display": null,
       "flex": null,
       "flex_flow": null,
       "grid_area": null,
       "grid_auto_columns": null,
       "grid_auto_flow": null,
       "grid_auto_rows": null,
       "grid_column": null,
       "grid_gap": null,
       "grid_row": null,
       "grid_template_areas": null,
       "grid_template_columns": null,
       "grid_template_rows": null,
       "height": null,
       "justify_content": null,
       "justify_items": null,
       "left": null,
       "margin": null,
       "max_height": null,
       "max_width": null,
       "min_height": null,
       "min_width": null,
       "object_fit": null,
       "object_position": null,
       "order": null,
       "overflow": null,
       "overflow_x": null,
       "overflow_y": null,
       "padding": null,
       "right": null,
       "top": null,
       "visibility": null,
       "width": null
      }
     },
     "53046fc9bdef45628a9d4536e676c7b2": {
      "model_module": "@jupyter-widgets/controls",
      "model_module_version": "1.5.0",
      "model_name": "DescriptionStyleModel",
      "state": {
       "_model_module": "@jupyter-widgets/controls",
       "_model_module_version": "1.5.0",
       "_model_name": "DescriptionStyleModel",
       "_view_count": null,
       "_view_module": "@jupyter-widgets/base",
       "_view_module_version": "1.2.0",
       "_view_name": "StyleView",
       "description_width": ""
      }
     },
     "5371bebc51dd402d80aa5d0da17969f1": {
      "model_module": "@jupyter-widgets/controls",
      "model_module_version": "1.5.0",
      "model_name": "ProgressStyleModel",
      "state": {
       "_model_module": "@jupyter-widgets/controls",
       "_model_module_version": "1.5.0",
       "_model_name": "ProgressStyleModel",
       "_view_count": null,
       "_view_module": "@jupyter-widgets/base",
       "_view_module_version": "1.2.0",
       "_view_name": "StyleView",
       "bar_color": null,
       "description_width": ""
      }
     },
     "5576c8b6174545789b83acd0d79109af": {
      "model_module": "@jupyter-widgets/base",
      "model_module_version": "1.2.0",
      "model_name": "LayoutModel",
      "state": {
       "_model_module": "@jupyter-widgets/base",
       "_model_module_version": "1.2.0",
       "_model_name": "LayoutModel",
       "_view_count": null,
       "_view_module": "@jupyter-widgets/base",
       "_view_module_version": "1.2.0",
       "_view_name": "LayoutView",
       "align_content": null,
       "align_items": null,
       "align_self": null,
       "border": null,
       "bottom": null,
       "display": null,
       "flex": null,
       "flex_flow": null,
       "grid_area": null,
       "grid_auto_columns": null,
       "grid_auto_flow": null,
       "grid_auto_rows": null,
       "grid_column": null,
       "grid_gap": null,
       "grid_row": null,
       "grid_template_areas": null,
       "grid_template_columns": null,
       "grid_template_rows": null,
       "height": null,
       "justify_content": null,
       "justify_items": null,
       "left": null,
       "margin": null,
       "max_height": null,
       "max_width": null,
       "min_height": null,
       "min_width": null,
       "object_fit": null,
       "object_position": null,
       "order": null,
       "overflow": null,
       "overflow_x": null,
       "overflow_y": null,
       "padding": null,
       "right": null,
       "top": null,
       "visibility": null,
       "width": null
      }
     },
     "55cba87e9d7f4d68bddcf2d6b3a523c3": {
      "model_module": "@jupyter-widgets/base",
      "model_module_version": "1.2.0",
      "model_name": "LayoutModel",
      "state": {
       "_model_module": "@jupyter-widgets/base",
       "_model_module_version": "1.2.0",
       "_model_name": "LayoutModel",
       "_view_count": null,
       "_view_module": "@jupyter-widgets/base",
       "_view_module_version": "1.2.0",
       "_view_name": "LayoutView",
       "align_content": null,
       "align_items": null,
       "align_self": null,
       "border": null,
       "bottom": null,
       "display": null,
       "flex": null,
       "flex_flow": null,
       "grid_area": null,
       "grid_auto_columns": null,
       "grid_auto_flow": null,
       "grid_auto_rows": null,
       "grid_column": null,
       "grid_gap": null,
       "grid_row": null,
       "grid_template_areas": null,
       "grid_template_columns": null,
       "grid_template_rows": null,
       "height": null,
       "justify_content": null,
       "justify_items": null,
       "left": null,
       "margin": null,
       "max_height": null,
       "max_width": null,
       "min_height": null,
       "min_width": null,
       "object_fit": null,
       "object_position": null,
       "order": null,
       "overflow": null,
       "overflow_x": null,
       "overflow_y": null,
       "padding": null,
       "right": null,
       "top": null,
       "visibility": null,
       "width": null
      }
     },
     "56706ecd24b045a99478e414d30bc06c": {
      "model_module": "@jupyter-widgets/controls",
      "model_module_version": "1.5.0",
      "model_name": "DescriptionStyleModel",
      "state": {
       "_model_module": "@jupyter-widgets/controls",
       "_model_module_version": "1.5.0",
       "_model_name": "DescriptionStyleModel",
       "_view_count": null,
       "_view_module": "@jupyter-widgets/base",
       "_view_module_version": "1.2.0",
       "_view_name": "StyleView",
       "description_width": ""
      }
     },
     "57ce0541f42a46f7b4b07a024ea69821": {
      "model_module": "@jupyter-widgets/controls",
      "model_module_version": "1.5.0",
      "model_name": "DescriptionStyleModel",
      "state": {
       "_model_module": "@jupyter-widgets/controls",
       "_model_module_version": "1.5.0",
       "_model_name": "DescriptionStyleModel",
       "_view_count": null,
       "_view_module": "@jupyter-widgets/base",
       "_view_module_version": "1.2.0",
       "_view_name": "StyleView",
       "description_width": ""
      }
     },
     "57d466873972412e93c3974b2e58904c": {
      "model_module": "@jupyter-widgets/controls",
      "model_module_version": "1.5.0",
      "model_name": "HBoxModel",
      "state": {
       "_dom_classes": [],
       "_model_module": "@jupyter-widgets/controls",
       "_model_module_version": "1.5.0",
       "_model_name": "HBoxModel",
       "_view_count": null,
       "_view_module": "@jupyter-widgets/controls",
       "_view_module_version": "1.5.0",
       "_view_name": "HBoxView",
       "box_style": "",
       "children": [
        "IPY_MODEL_9864bc41f1524d259c2ca54872a2c712",
        "IPY_MODEL_64a7a83bf54947dfbbecacde02e72848",
        "IPY_MODEL_d8af419a3a2c4cb494e9a44cf66be8f7"
       ],
       "layout": "IPY_MODEL_001744dba7e546e6a55701b87cda9852"
      }
     },
     "5a12bb5bbb9b4e3b876f4d0e2a89fafb": {
      "model_module": "@jupyter-widgets/controls",
      "model_module_version": "1.5.0",
      "model_name": "HTMLModel",
      "state": {
       "_dom_classes": [],
       "_model_module": "@jupyter-widgets/controls",
       "_model_module_version": "1.5.0",
       "_model_name": "HTMLModel",
       "_view_count": null,
       "_view_module": "@jupyter-widgets/controls",
       "_view_module_version": "1.5.0",
       "_view_name": "HTMLView",
       "description": "",
       "description_tooltip": null,
       "layout": "IPY_MODEL_cf75ee216b9847ada9c8e663ccfeab71",
       "placeholder": "​",
       "style": "IPY_MODEL_57ce0541f42a46f7b4b07a024ea69821",
       "value": "Downloading data: 100%"
      }
     },
     "5b00424ffa7241dda2899be71513dd2a": {
      "model_module": "@jupyter-widgets/controls",
      "model_module_version": "1.5.0",
      "model_name": "HBoxModel",
      "state": {
       "_dom_classes": [],
       "_model_module": "@jupyter-widgets/controls",
       "_model_module_version": "1.5.0",
       "_model_name": "HBoxModel",
       "_view_count": null,
       "_view_module": "@jupyter-widgets/controls",
       "_view_module_version": "1.5.0",
       "_view_name": "HBoxView",
       "box_style": "",
       "children": [
        "IPY_MODEL_1ded65c44b56435f8bb6566eb4472743",
        "IPY_MODEL_5d603205224d47d8967d84891bd02985",
        "IPY_MODEL_69ddbc2ac8ab4de184e625dc072383af"
       ],
       "layout": "IPY_MODEL_c8c12a8aa25742f7a0d6a3db624ec7be"
      }
     },
     "5d603205224d47d8967d84891bd02985": {
      "model_module": "@jupyter-widgets/controls",
      "model_module_version": "1.5.0",
      "model_name": "FloatProgressModel",
      "state": {
       "_dom_classes": [],
       "_model_module": "@jupyter-widgets/controls",
       "_model_module_version": "1.5.0",
       "_model_name": "FloatProgressModel",
       "_view_count": null,
       "_view_module": "@jupyter-widgets/controls",
       "_view_module_version": "1.5.0",
       "_view_name": "ProgressView",
       "bar_style": "success",
       "description": "",
       "description_tooltip": null,
       "layout": "IPY_MODEL_e1931f91b83740e8b6eff6a971a4dddc",
       "max": 2.0,
       "min": 0.0,
       "orientation": "horizontal",
       "style": "IPY_MODEL_35c7238cfc2843d782bd8324a46cf8eb",
       "value": 2.0
      }
     },
     "5fff3b0e2b584b30a53c1b020a600651": {
      "model_module": "@jupyter-widgets/controls",
      "model_module_version": "1.5.0",
      "model_name": "DescriptionStyleModel",
      "state": {
       "_model_module": "@jupyter-widgets/controls",
       "_model_module_version": "1.5.0",
       "_model_name": "DescriptionStyleModel",
       "_view_count": null,
       "_view_module": "@jupyter-widgets/base",
       "_view_module_version": "1.2.0",
       "_view_name": "StyleView",
       "description_width": ""
      }
     },
     "60b213aa0abb4e4c93b2e857848d7dd5": {
      "model_module": "@jupyter-widgets/controls",
      "model_module_version": "1.5.0",
      "model_name": "DescriptionStyleModel",
      "state": {
       "_model_module": "@jupyter-widgets/controls",
       "_model_module_version": "1.5.0",
       "_model_name": "DescriptionStyleModel",
       "_view_count": null,
       "_view_module": "@jupyter-widgets/base",
       "_view_module_version": "1.2.0",
       "_view_name": "StyleView",
       "description_width": ""
      }
     },
     "614103595d8847329fa61cb38fdd989f": {
      "model_module": "@jupyter-widgets/controls",
      "model_module_version": "1.5.0",
      "model_name": "ProgressStyleModel",
      "state": {
       "_model_module": "@jupyter-widgets/controls",
       "_model_module_version": "1.5.0",
       "_model_name": "ProgressStyleModel",
       "_view_count": null,
       "_view_module": "@jupyter-widgets/base",
       "_view_module_version": "1.2.0",
       "_view_name": "StyleView",
       "bar_color": null,
       "description_width": ""
      }
     },
     "62e9f4191e52436983a72218dbf80ca9": {
      "model_module": "@jupyter-widgets/base",
      "model_module_version": "1.2.0",
      "model_name": "LayoutModel",
      "state": {
       "_model_module": "@jupyter-widgets/base",
       "_model_module_version": "1.2.0",
       "_model_name": "LayoutModel",
       "_view_count": null,
       "_view_module": "@jupyter-widgets/base",
       "_view_module_version": "1.2.0",
       "_view_name": "LayoutView",
       "align_content": null,
       "align_items": null,
       "align_self": null,
       "border": null,
       "bottom": null,
       "display": null,
       "flex": null,
       "flex_flow": null,
       "grid_area": null,
       "grid_auto_columns": null,
       "grid_auto_flow": null,
       "grid_auto_rows": null,
       "grid_column": null,
       "grid_gap": null,
       "grid_row": null,
       "grid_template_areas": null,
       "grid_template_columns": null,
       "grid_template_rows": null,
       "height": null,
       "justify_content": null,
       "justify_items": null,
       "left": null,
       "margin": null,
       "max_height": null,
       "max_width": null,
       "min_height": null,
       "min_width": null,
       "object_fit": null,
       "object_position": null,
       "order": null,
       "overflow": null,
       "overflow_x": null,
       "overflow_y": null,
       "padding": null,
       "right": null,
       "top": null,
       "visibility": null,
       "width": null
      }
     },
     "64a7a83bf54947dfbbecacde02e72848": {
      "model_module": "@jupyter-widgets/controls",
      "model_module_version": "1.5.0",
      "model_name": "FloatProgressModel",
      "state": {
       "_dom_classes": [],
       "_model_module": "@jupyter-widgets/controls",
       "_model_module_version": "1.5.0",
       "_model_name": "FloatProgressModel",
       "_view_count": null,
       "_view_module": "@jupyter-widgets/controls",
       "_view_module_version": "1.5.0",
       "_view_name": "ProgressView",
       "bar_style": "success",
       "description": "",
       "description_tooltip": null,
       "layout": "IPY_MODEL_de0970ad2fc44e7d969ff76b11e06099",
       "max": 1.0,
       "min": 0.0,
       "orientation": "horizontal",
       "style": "IPY_MODEL_1c9b4602d0a54240821f78377d19a62b",
       "value": 1.0
      }
     },
     "657c09ed72a94a3f920f0e8349518c88": {
      "model_module": "@jupyter-widgets/controls",
      "model_module_version": "1.5.0",
      "model_name": "DescriptionStyleModel",
      "state": {
       "_model_module": "@jupyter-widgets/controls",
       "_model_module_version": "1.5.0",
       "_model_name": "DescriptionStyleModel",
       "_view_count": null,
       "_view_module": "@jupyter-widgets/base",
       "_view_module_version": "1.2.0",
       "_view_name": "StyleView",
       "description_width": ""
      }
     },
     "679cc4405f26459e84a5059de779e075": {
      "model_module": "@jupyter-widgets/controls",
      "model_module_version": "1.5.0",
      "model_name": "HBoxModel",
      "state": {
       "_dom_classes": [],
       "_model_module": "@jupyter-widgets/controls",
       "_model_module_version": "1.5.0",
       "_model_name": "HBoxModel",
       "_view_count": null,
       "_view_module": "@jupyter-widgets/controls",
       "_view_module_version": "1.5.0",
       "_view_name": "HBoxView",
       "box_style": "",
       "children": [
        "IPY_MODEL_bb267cffdb1b4b2f9a5acff0e56f1c4c",
        "IPY_MODEL_b36d554502fa4ea286d5e5e0c272c5fe",
        "IPY_MODEL_79bca4e313f246e184d9fecfb7e91650"
       ],
       "layout": "IPY_MODEL_7976f02ccb6041ee8ce6fb7dcb17609a"
      }
     },
     "6808d41f43d54b3687fb34f6fbdf0dd8": {
      "model_module": "@jupyter-widgets/controls",
      "model_module_version": "1.5.0",
      "model_name": "DescriptionStyleModel",
      "state": {
       "_model_module": "@jupyter-widgets/controls",
       "_model_module_version": "1.5.0",
       "_model_name": "DescriptionStyleModel",
       "_view_count": null,
       "_view_module": "@jupyter-widgets/base",
       "_view_module_version": "1.2.0",
       "_view_name": "StyleView",
       "description_width": ""
      }
     },
     "6890baf5c606452398be1c8ae2ab6895": {
      "model_module": "@jupyter-widgets/controls",
      "model_module_version": "1.5.0",
      "model_name": "DescriptionStyleModel",
      "state": {
       "_model_module": "@jupyter-widgets/controls",
       "_model_module_version": "1.5.0",
       "_model_name": "DescriptionStyleModel",
       "_view_count": null,
       "_view_module": "@jupyter-widgets/base",
       "_view_module_version": "1.2.0",
       "_view_name": "StyleView",
       "description_width": ""
      }
     },
     "68d86ae5aa9e495b937d6ec3cdb5a0b7": {
      "model_module": "@jupyter-widgets/base",
      "model_module_version": "1.2.0",
      "model_name": "LayoutModel",
      "state": {
       "_model_module": "@jupyter-widgets/base",
       "_model_module_version": "1.2.0",
       "_model_name": "LayoutModel",
       "_view_count": null,
       "_view_module": "@jupyter-widgets/base",
       "_view_module_version": "1.2.0",
       "_view_name": "LayoutView",
       "align_content": null,
       "align_items": null,
       "align_self": null,
       "border": null,
       "bottom": null,
       "display": null,
       "flex": null,
       "flex_flow": null,
       "grid_area": null,
       "grid_auto_columns": null,
       "grid_auto_flow": null,
       "grid_auto_rows": null,
       "grid_column": null,
       "grid_gap": null,
       "grid_row": null,
       "grid_template_areas": null,
       "grid_template_columns": null,
       "grid_template_rows": null,
       "height": null,
       "justify_content": null,
       "justify_items": null,
       "left": null,
       "margin": null,
       "max_height": null,
       "max_width": null,
       "min_height": null,
       "min_width": null,
       "object_fit": null,
       "object_position": null,
       "order": null,
       "overflow": null,
       "overflow_x": null,
       "overflow_y": null,
       "padding": null,
       "right": null,
       "top": null,
       "visibility": null,
       "width": null
      }
     },
     "690b47ca874e40fe852e1020b167e455": {
      "model_module": "@jupyter-widgets/controls",
      "model_module_version": "1.5.0",
      "model_name": "HBoxModel",
      "state": {
       "_dom_classes": [],
       "_model_module": "@jupyter-widgets/controls",
       "_model_module_version": "1.5.0",
       "_model_name": "HBoxModel",
       "_view_count": null,
       "_view_module": "@jupyter-widgets/controls",
       "_view_module_version": "1.5.0",
       "_view_name": "HBoxView",
       "box_style": "",
       "children": [
        "IPY_MODEL_c38233db80ef4d3689db3e5ce813eff2",
        "IPY_MODEL_06685bfc48de43089922bf371da13988",
        "IPY_MODEL_d62214adadf34f049d8b5471230ba478"
       ],
       "layout": "IPY_MODEL_85c3520b67c14b0486010955d7245d55"
      }
     },
     "69a3982a0074466ba819471c1d85791d": {
      "model_module": "@jupyter-widgets/controls",
      "model_module_version": "1.5.0",
      "model_name": "ProgressStyleModel",
      "state": {
       "_model_module": "@jupyter-widgets/controls",
       "_model_module_version": "1.5.0",
       "_model_name": "ProgressStyleModel",
       "_view_count": null,
       "_view_module": "@jupyter-widgets/base",
       "_view_module_version": "1.2.0",
       "_view_name": "StyleView",
       "bar_color": null,
       "description_width": ""
      }
     },
     "69d3919c61df4bac89099525763bfe6d": {
      "model_module": "@jupyter-widgets/controls",
      "model_module_version": "1.5.0",
      "model_name": "DescriptionStyleModel",
      "state": {
       "_model_module": "@jupyter-widgets/controls",
       "_model_module_version": "1.5.0",
       "_model_name": "DescriptionStyleModel",
       "_view_count": null,
       "_view_module": "@jupyter-widgets/base",
       "_view_module_version": "1.2.0",
       "_view_name": "StyleView",
       "description_width": ""
      }
     },
     "69ddbc2ac8ab4de184e625dc072383af": {
      "model_module": "@jupyter-widgets/controls",
      "model_module_version": "1.5.0",
      "model_name": "HTMLModel",
      "state": {
       "_dom_classes": [],
       "_model_module": "@jupyter-widgets/controls",
       "_model_module_version": "1.5.0",
       "_model_name": "HTMLModel",
       "_view_count": null,
       "_view_module": "@jupyter-widgets/controls",
       "_view_module_version": "1.5.0",
       "_view_name": "HTMLView",
       "description": "",
       "description_tooltip": null,
       "layout": "IPY_MODEL_68d86ae5aa9e495b937d6ec3cdb5a0b7",
       "placeholder": "​",
       "style": "IPY_MODEL_1caa030d1584496f8ea800afa5aa492f",
       "value": " 2/2 [00:01&lt;00:00,  1.52it/s]"
      }
     },
     "6a6489361bff4fe09db478a94eab54ba": {
      "model_module": "@jupyter-widgets/base",
      "model_module_version": "1.2.0",
      "model_name": "LayoutModel",
      "state": {
       "_model_module": "@jupyter-widgets/base",
       "_model_module_version": "1.2.0",
       "_model_name": "LayoutModel",
       "_view_count": null,
       "_view_module": "@jupyter-widgets/base",
       "_view_module_version": "1.2.0",
       "_view_name": "LayoutView",
       "align_content": null,
       "align_items": null,
       "align_self": null,
       "border": null,
       "bottom": null,
       "display": null,
       "flex": null,
       "flex_flow": null,
       "grid_area": null,
       "grid_auto_columns": null,
       "grid_auto_flow": null,
       "grid_auto_rows": null,
       "grid_column": null,
       "grid_gap": null,
       "grid_row": null,
       "grid_template_areas": null,
       "grid_template_columns": null,
       "grid_template_rows": null,
       "height": null,
       "justify_content": null,
       "justify_items": null,
       "left": null,
       "margin": null,
       "max_height": null,
       "max_width": null,
       "min_height": null,
       "min_width": null,
       "object_fit": null,
       "object_position": null,
       "order": null,
       "overflow": null,
       "overflow_x": null,
       "overflow_y": null,
       "padding": null,
       "right": null,
       "top": null,
       "visibility": null,
       "width": null
      }
     },
     "6b101dbcc0144379ae987331a6a238e5": {
      "model_module": "@jupyter-widgets/controls",
      "model_module_version": "1.5.0",
      "model_name": "HTMLModel",
      "state": {
       "_dom_classes": [],
       "_model_module": "@jupyter-widgets/controls",
       "_model_module_version": "1.5.0",
       "_model_name": "HTMLModel",
       "_view_count": null,
       "_view_module": "@jupyter-widgets/controls",
       "_view_module_version": "1.5.0",
       "_view_name": "HTMLView",
       "description": "",
       "description_tooltip": null,
       "layout": "IPY_MODEL_f2cbaca456874e3d8a44c876745257f7",
       "placeholder": "​",
       "style": "IPY_MODEL_21edce6c9eaf4d25b42400a7d86536d1",
       "value": " 1.87M/1.87M [00:00&lt;00:00, 19.5MB/s]"
      }
     },
     "6ed2c918421a43cdb18cd3dad7fe3617": {
      "model_module": "@jupyter-widgets/controls",
      "model_module_version": "1.5.0",
      "model_name": "HBoxModel",
      "state": {
       "_dom_classes": [],
       "_model_module": "@jupyter-widgets/controls",
       "_model_module_version": "1.5.0",
       "_model_name": "HBoxModel",
       "_view_count": null,
       "_view_module": "@jupyter-widgets/controls",
       "_view_module_version": "1.5.0",
       "_view_name": "HBoxView",
       "box_style": "",
       "children": [
        "IPY_MODEL_309c2c9f57dc440899b67525b8a211d8",
        "IPY_MODEL_f085f4d6f8824587a01f086a57feac93",
        "IPY_MODEL_ed7cde1df1eb4cd38ee9a65a3b881e50"
       ],
       "layout": "IPY_MODEL_4989ceeb423a4a699f20927fdb4e5a34"
      }
     },
     "6efa8af7a31e450e9ced395fd2d2110d": {
      "model_module": "@jupyter-widgets/controls",
      "model_module_version": "1.5.0",
      "model_name": "FloatProgressModel",
      "state": {
       "_dom_classes": [],
       "_model_module": "@jupyter-widgets/controls",
       "_model_module_version": "1.5.0",
       "_model_name": "FloatProgressModel",
       "_view_count": null,
       "_view_module": "@jupyter-widgets/controls",
       "_view_module_version": "1.5.0",
       "_view_name": "ProgressView",
       "bar_style": "success",
       "description": "",
       "description_tooltip": null,
       "layout": "IPY_MODEL_9ed8e6bbc65b434dbdbff3faaa95d86a",
       "max": 11261693.0,
       "min": 0.0,
       "orientation": "horizontal",
       "style": "IPY_MODEL_181d2309818e47a4aedb7429dceeedc5",
       "value": 11261693.0
      }
     },
     "74e13cafa2e1437f931b36b4c6196f79": {
      "model_module": "@jupyter-widgets/base",
      "model_module_version": "1.2.0",
      "model_name": "LayoutModel",
      "state": {
       "_model_module": "@jupyter-widgets/base",
       "_model_module_version": "1.2.0",
       "_model_name": "LayoutModel",
       "_view_count": null,
       "_view_module": "@jupyter-widgets/base",
       "_view_module_version": "1.2.0",
       "_view_name": "LayoutView",
       "align_content": null,
       "align_items": null,
       "align_self": null,
       "border": null,
       "bottom": null,
       "display": null,
       "flex": null,
       "flex_flow": null,
       "grid_area": null,
       "grid_auto_columns": null,
       "grid_auto_flow": null,
       "grid_auto_rows": null,
       "grid_column": null,
       "grid_gap": null,
       "grid_row": null,
       "grid_template_areas": null,
       "grid_template_columns": null,
       "grid_template_rows": null,
       "height": null,
       "justify_content": null,
       "justify_items": null,
       "left": null,
       "margin": null,
       "max_height": null,
       "max_width": null,
       "min_height": null,
       "min_width": null,
       "object_fit": null,
       "object_position": null,
       "order": null,
       "overflow": null,
       "overflow_x": null,
       "overflow_y": null,
       "padding": null,
       "right": null,
       "top": null,
       "visibility": null,
       "width": null
      }
     },
     "757dc45b8a054764a12174104dbd0ba2": {
      "model_module": "@jupyter-widgets/base",
      "model_module_version": "1.2.0",
      "model_name": "LayoutModel",
      "state": {
       "_model_module": "@jupyter-widgets/base",
       "_model_module_version": "1.2.0",
       "_model_name": "LayoutModel",
       "_view_count": null,
       "_view_module": "@jupyter-widgets/base",
       "_view_module_version": "1.2.0",
       "_view_name": "LayoutView",
       "align_content": null,
       "align_items": null,
       "align_self": null,
       "border": null,
       "bottom": null,
       "display": null,
       "flex": null,
       "flex_flow": null,
       "grid_area": null,
       "grid_auto_columns": null,
       "grid_auto_flow": null,
       "grid_auto_rows": null,
       "grid_column": null,
       "grid_gap": null,
       "grid_row": null,
       "grid_template_areas": null,
       "grid_template_columns": null,
       "grid_template_rows": null,
       "height": null,
       "justify_content": null,
       "justify_items": null,
       "left": null,
       "margin": null,
       "max_height": null,
       "max_width": null,
       "min_height": null,
       "min_width": null,
       "object_fit": null,
       "object_position": null,
       "order": null,
       "overflow": null,
       "overflow_x": null,
       "overflow_y": null,
       "padding": null,
       "right": null,
       "top": null,
       "visibility": null,
       "width": null
      }
     },
     "7976f02ccb6041ee8ce6fb7dcb17609a": {
      "model_module": "@jupyter-widgets/base",
      "model_module_version": "1.2.0",
      "model_name": "LayoutModel",
      "state": {
       "_model_module": "@jupyter-widgets/base",
       "_model_module_version": "1.2.0",
       "_model_name": "LayoutModel",
       "_view_count": null,
       "_view_module": "@jupyter-widgets/base",
       "_view_module_version": "1.2.0",
       "_view_name": "LayoutView",
       "align_content": null,
       "align_items": null,
       "align_self": null,
       "border": null,
       "bottom": null,
       "display": null,
       "flex": null,
       "flex_flow": null,
       "grid_area": null,
       "grid_auto_columns": null,
       "grid_auto_flow": null,
       "grid_auto_rows": null,
       "grid_column": null,
       "grid_gap": null,
       "grid_row": null,
       "grid_template_areas": null,
       "grid_template_columns": null,
       "grid_template_rows": null,
       "height": null,
       "justify_content": null,
       "justify_items": null,
       "left": null,
       "margin": null,
       "max_height": null,
       "max_width": null,
       "min_height": null,
       "min_width": null,
       "object_fit": null,
       "object_position": null,
       "order": null,
       "overflow": null,
       "overflow_x": null,
       "overflow_y": null,
       "padding": null,
       "right": null,
       "top": null,
       "visibility": null,
       "width": null
      }
     },
     "79bca4e313f246e184d9fecfb7e91650": {
      "model_module": "@jupyter-widgets/controls",
      "model_module_version": "1.5.0",
      "model_name": "HTMLModel",
      "state": {
       "_dom_classes": [],
       "_model_module": "@jupyter-widgets/controls",
       "_model_module_version": "1.5.0",
       "_model_name": "HTMLModel",
       "_view_count": null,
       "_view_module": "@jupyter-widgets/controls",
       "_view_module_version": "1.5.0",
       "_view_name": "HTMLView",
       "description": "",
       "description_tooltip": null,
       "layout": "IPY_MODEL_f227a88226d44871975f157d91982bae",
       "placeholder": "​",
       "style": "IPY_MODEL_69d3919c61df4bac89099525763bfe6d",
       "value": " 2/2 [00:00&lt;00:00, 58.81it/s]"
      }
     },
     "7b960f53fde14acdb8ac5257a85de418": {
      "model_module": "@jupyter-widgets/controls",
      "model_module_version": "1.5.0",
      "model_name": "DescriptionStyleModel",
      "state": {
       "_model_module": "@jupyter-widgets/controls",
       "_model_module_version": "1.5.0",
       "_model_name": "DescriptionStyleModel",
       "_view_count": null,
       "_view_module": "@jupyter-widgets/base",
       "_view_module_version": "1.2.0",
       "_view_name": "StyleView",
       "description_width": ""
      }
     },
     "7dfe432e4d2947a2907899bc60bc139d": {
      "model_module": "@jupyter-widgets/controls",
      "model_module_version": "1.5.0",
      "model_name": "HTMLModel",
      "state": {
       "_dom_classes": [],
       "_model_module": "@jupyter-widgets/controls",
       "_model_module_version": "1.5.0",
       "_model_name": "HTMLModel",
       "_view_count": null,
       "_view_module": "@jupyter-widgets/controls",
       "_view_module_version": "1.5.0",
       "_view_name": "HTMLView",
       "description": "",
       "description_tooltip": null,
       "layout": "IPY_MODEL_d50055d2c9c341a0b6a8694c23f6d61b",
       "placeholder": "​",
       "style": "IPY_MODEL_d7dcd060da4145f2900511bdf9bd63fe",
       "value": "Downloading (…)neration_config.json: 100%"
      }
     },
     "7e20817996e44599a29dff164f59a3a5": {
      "model_module": "@jupyter-widgets/controls",
      "model_module_version": "1.5.0",
      "model_name": "FloatProgressModel",
      "state": {
       "_dom_classes": [],
       "_model_module": "@jupyter-widgets/controls",
       "_model_module_version": "1.5.0",
       "_model_name": "FloatProgressModel",
       "_view_count": null,
       "_view_module": "@jupyter-widgets/controls",
       "_view_module_version": "1.5.0",
       "_view_name": "ProgressView",
       "bar_style": "success",
       "description": "",
       "description_tooltip": null,
       "layout": "IPY_MODEL_dc4673560dbd40abb3f64c4a33cf52ca",
       "max": 1870199.0,
       "min": 0.0,
       "orientation": "horizontal",
       "style": "IPY_MODEL_945241daf5814895bbc6645d29f66bf9",
       "value": 1870199.0
      }
     },
     "7e9c0b153697472b96b881e9a5cefdef": {
      "model_module": "@jupyter-widgets/controls",
      "model_module_version": "1.5.0",
      "model_name": "DescriptionStyleModel",
      "state": {
       "_model_module": "@jupyter-widgets/controls",
       "_model_module_version": "1.5.0",
       "_model_name": "DescriptionStyleModel",
       "_view_count": null,
       "_view_module": "@jupyter-widgets/base",
       "_view_module_version": "1.2.0",
       "_view_name": "StyleView",
       "description_width": ""
      }
     },
     "828e2cc51e6548c8b7022a0adcaafcbc": {
      "model_module": "@jupyter-widgets/controls",
      "model_module_version": "1.5.0",
      "model_name": "ProgressStyleModel",
      "state": {
       "_model_module": "@jupyter-widgets/controls",
       "_model_module_version": "1.5.0",
       "_model_name": "ProgressStyleModel",
       "_view_count": null,
       "_view_module": "@jupyter-widgets/base",
       "_view_module_version": "1.2.0",
       "_view_name": "StyleView",
       "bar_color": null,
       "description_width": ""
      }
     },
     "831f34e99d684c15b46a2312b50d6f28": {
      "model_module": "@jupyter-widgets/controls",
      "model_module_version": "1.5.0",
      "model_name": "DescriptionStyleModel",
      "state": {
       "_model_module": "@jupyter-widgets/controls",
       "_model_module_version": "1.5.0",
       "_model_name": "DescriptionStyleModel",
       "_view_count": null,
       "_view_module": "@jupyter-widgets/base",
       "_view_module_version": "1.2.0",
       "_view_name": "StyleView",
       "description_width": ""
      }
     },
     "8529114411b049e8ac79858d1f55c03e": {
      "model_module": "@jupyter-widgets/controls",
      "model_module_version": "1.5.0",
      "model_name": "HTMLModel",
      "state": {
       "_dom_classes": [],
       "_model_module": "@jupyter-widgets/controls",
       "_model_module_version": "1.5.0",
       "_model_name": "HTMLModel",
       "_view_count": null,
       "_view_module": "@jupyter-widgets/controls",
       "_view_module_version": "1.5.0",
       "_view_name": "HTMLView",
       "description": "",
       "description_tooltip": null,
       "layout": "IPY_MODEL_9a92c0a0657c41a48d6ffe7310df4d88",
       "placeholder": "​",
       "style": "IPY_MODEL_7e9c0b153697472b96b881e9a5cefdef",
       "value": "100%"
      }
     },
     "85c3520b67c14b0486010955d7245d55": {
      "model_module": "@jupyter-widgets/base",
      "model_module_version": "1.2.0",
      "model_name": "LayoutModel",
      "state": {
       "_model_module": "@jupyter-widgets/base",
       "_model_module_version": "1.2.0",
       "_model_name": "LayoutModel",
       "_view_count": null,
       "_view_module": "@jupyter-widgets/base",
       "_view_module_version": "1.2.0",
       "_view_name": "LayoutView",
       "align_content": null,
       "align_items": null,
       "align_self": null,
       "border": null,
       "bottom": null,
       "display": null,
       "flex": null,
       "flex_flow": null,
       "grid_area": null,
       "grid_auto_columns": null,
       "grid_auto_flow": null,
       "grid_auto_rows": null,
       "grid_column": null,
       "grid_gap": null,
       "grid_row": null,
       "grid_template_areas": null,
       "grid_template_columns": null,
       "grid_template_rows": null,
       "height": null,
       "justify_content": null,
       "justify_items": null,
       "left": null,
       "margin": null,
       "max_height": null,
       "max_width": null,
       "min_height": null,
       "min_width": null,
       "object_fit": null,
       "object_position": null,
       "order": null,
       "overflow": null,
       "overflow_x": null,
       "overflow_y": null,
       "padding": null,
       "right": null,
       "top": null,
       "visibility": null,
       "width": null
      }
     },
     "86a341477cc64cb4a95c7d030efe1dcf": {
      "model_module": "@jupyter-widgets/controls",
      "model_module_version": "1.5.0",
      "model_name": "HBoxModel",
      "state": {
       "_dom_classes": [],
       "_model_module": "@jupyter-widgets/controls",
       "_model_module_version": "1.5.0",
       "_model_name": "HBoxModel",
       "_view_count": null,
       "_view_module": "@jupyter-widgets/controls",
       "_view_module_version": "1.5.0",
       "_view_name": "HBoxView",
       "box_style": "",
       "children": [
        "IPY_MODEL_f5ea36995e5b44c992e1d7496c2357de",
        "IPY_MODEL_7e20817996e44599a29dff164f59a3a5",
        "IPY_MODEL_6b101dbcc0144379ae987331a6a238e5"
       ],
       "layout": "IPY_MODEL_9480f14700204465bc57dae5eabc4c60"
      }
     },
     "8e9bf4e8b65542898323d4a1d671f15a": {
      "model_module": "@jupyter-widgets/controls",
      "model_module_version": "1.5.0",
      "model_name": "DescriptionStyleModel",
      "state": {
       "_model_module": "@jupyter-widgets/controls",
       "_model_module_version": "1.5.0",
       "_model_name": "DescriptionStyleModel",
       "_view_count": null,
       "_view_module": "@jupyter-widgets/base",
       "_view_module_version": "1.2.0",
       "_view_name": "StyleView",
       "description_width": ""
      }
     },
     "91943de0a4f64e38943df87edc57a455": {
      "model_module": "@jupyter-widgets/base",
      "model_module_version": "1.2.0",
      "model_name": "LayoutModel",
      "state": {
       "_model_module": "@jupyter-widgets/base",
       "_model_module_version": "1.2.0",
       "_model_name": "LayoutModel",
       "_view_count": null,
       "_view_module": "@jupyter-widgets/base",
       "_view_module_version": "1.2.0",
       "_view_name": "LayoutView",
       "align_content": null,
       "align_items": null,
       "align_self": null,
       "border": null,
       "bottom": null,
       "display": null,
       "flex": null,
       "flex_flow": null,
       "grid_area": null,
       "grid_auto_columns": null,
       "grid_auto_flow": null,
       "grid_auto_rows": null,
       "grid_column": null,
       "grid_gap": null,
       "grid_row": null,
       "grid_template_areas": null,
       "grid_template_columns": null,
       "grid_template_rows": null,
       "height": null,
       "justify_content": null,
       "justify_items": null,
       "left": null,
       "margin": null,
       "max_height": null,
       "max_width": null,
       "min_height": null,
       "min_width": null,
       "object_fit": null,
       "object_position": null,
       "order": null,
       "overflow": null,
       "overflow_x": null,
       "overflow_y": null,
       "padding": null,
       "right": null,
       "top": null,
       "visibility": null,
       "width": null
      }
     },
     "940508b446b6452eb6639c4e0bee7960": {
      "model_module": "@jupyter-widgets/controls",
      "model_module_version": "1.5.0",
      "model_name": "DescriptionStyleModel",
      "state": {
       "_model_module": "@jupyter-widgets/controls",
       "_model_module_version": "1.5.0",
       "_model_name": "DescriptionStyleModel",
       "_view_count": null,
       "_view_module": "@jupyter-widgets/base",
       "_view_module_version": "1.2.0",
       "_view_name": "StyleView",
       "description_width": ""
      }
     },
     "945241daf5814895bbc6645d29f66bf9": {
      "model_module": "@jupyter-widgets/controls",
      "model_module_version": "1.5.0",
      "model_name": "ProgressStyleModel",
      "state": {
       "_model_module": "@jupyter-widgets/controls",
       "_model_module_version": "1.5.0",
       "_model_name": "ProgressStyleModel",
       "_view_count": null,
       "_view_module": "@jupyter-widgets/base",
       "_view_module_version": "1.2.0",
       "_view_name": "StyleView",
       "bar_color": null,
       "description_width": ""
      }
     },
     "9480f14700204465bc57dae5eabc4c60": {
      "model_module": "@jupyter-widgets/base",
      "model_module_version": "1.2.0",
      "model_name": "LayoutModel",
      "state": {
       "_model_module": "@jupyter-widgets/base",
       "_model_module_version": "1.2.0",
       "_model_name": "LayoutModel",
       "_view_count": null,
       "_view_module": "@jupyter-widgets/base",
       "_view_module_version": "1.2.0",
       "_view_name": "LayoutView",
       "align_content": null,
       "align_items": null,
       "align_self": null,
       "border": null,
       "bottom": null,
       "display": null,
       "flex": null,
       "flex_flow": null,
       "grid_area": null,
       "grid_auto_columns": null,
       "grid_auto_flow": null,
       "grid_auto_rows": null,
       "grid_column": null,
       "grid_gap": null,
       "grid_row": null,
       "grid_template_areas": null,
       "grid_template_columns": null,
       "grid_template_rows": null,
       "height": null,
       "justify_content": null,
       "justify_items": null,
       "left": null,
       "margin": null,
       "max_height": null,
       "max_width": null,
       "min_height": null,
       "min_width": null,
       "object_fit": null,
       "object_position": null,
       "order": null,
       "overflow": null,
       "overflow_x": null,
       "overflow_y": null,
       "padding": null,
       "right": null,
       "top": null,
       "visibility": null,
       "width": null
      }
     },
     "95a6eafb61034b7692461466209f147b": {
      "model_module": "@jupyter-widgets/controls",
      "model_module_version": "1.5.0",
      "model_name": "HTMLModel",
      "state": {
       "_dom_classes": [],
       "_model_module": "@jupyter-widgets/controls",
       "_model_module_version": "1.5.0",
       "_model_name": "HTMLModel",
       "_view_count": null,
       "_view_module": "@jupyter-widgets/controls",
       "_view_module_version": "1.5.0",
       "_view_name": "HTMLView",
       "description": "",
       "description_tooltip": null,
       "layout": "IPY_MODEL_df91bf35956c4e6880bfd4e80857efda",
       "placeholder": "​",
       "style": "IPY_MODEL_b6924538a6004cb2bee1975744848a63",
       "value": "Downloading model.safetensors: 100%"
      }
     },
     "9864bc41f1524d259c2ca54872a2c712": {
      "model_module": "@jupyter-widgets/controls",
      "model_module_version": "1.5.0",
      "model_name": "HTMLModel",
      "state": {
       "_dom_classes": [],
       "_model_module": "@jupyter-widgets/controls",
       "_model_module_version": "1.5.0",
       "_model_name": "HTMLModel",
       "_view_count": null,
       "_view_module": "@jupyter-widgets/controls",
       "_view_module_version": "1.5.0",
       "_view_name": "HTMLView",
       "description": "",
       "description_tooltip": null,
       "layout": "IPY_MODEL_460bc3a846da4ec3beeb2979d8f4a0da",
       "placeholder": "​",
       "style": "IPY_MODEL_1e05051e7aec4ee88805ba736a357c3a",
       "value": "Downloading (…)lve/main/config.json: "
      }
     },
     "986fb99c942d403097b241fc26404216": {
      "model_module": "@jupyter-widgets/controls",
      "model_module_version": "1.5.0",
      "model_name": "HTMLModel",
      "state": {
       "_dom_classes": [],
       "_model_module": "@jupyter-widgets/controls",
       "_model_module_version": "1.5.0",
       "_model_name": "HTMLModel",
       "_view_count": null,
       "_view_module": "@jupyter-widgets/controls",
       "_view_module_version": "1.5.0",
       "_view_name": "HTMLView",
       "description": "",
       "description_tooltip": null,
       "layout": "IPY_MODEL_b7232a9c788e4aa7b2294d3af1b09674",
       "placeholder": "​",
       "style": "IPY_MODEL_a0072b29d6b74189a1023e5167263131",
       "value": " 147/147 [00:00&lt;00:00, 4.49kB/s]"
      }
     },
     "98a47b47be3b4f63bdce8a33b79dea74": {
      "model_module": "@jupyter-widgets/base",
      "model_module_version": "1.2.0",
      "model_name": "LayoutModel",
      "state": {
       "_model_module": "@jupyter-widgets/base",
       "_model_module_version": "1.2.0",
       "_model_name": "LayoutModel",
       "_view_count": null,
       "_view_module": "@jupyter-widgets/base",
       "_view_module_version": "1.2.0",
       "_view_name": "LayoutView",
       "align_content": null,
       "align_items": null,
       "align_self": null,
       "border": null,
       "bottom": null,
       "display": null,
       "flex": null,
       "flex_flow": null,
       "grid_area": null,
       "grid_auto_columns": null,
       "grid_auto_flow": null,
       "grid_auto_rows": null,
       "grid_column": null,
       "grid_gap": null,
       "grid_row": null,
       "grid_template_areas": null,
       "grid_template_columns": null,
       "grid_template_rows": null,
       "height": null,
       "justify_content": null,
       "justify_items": null,
       "left": null,
       "margin": null,
       "max_height": null,
       "max_width": null,
       "min_height": null,
       "min_width": null,
       "object_fit": null,
       "object_position": null,
       "order": null,
       "overflow": null,
       "overflow_x": null,
       "overflow_y": null,
       "padding": null,
       "right": null,
       "top": null,
       "visibility": null,
       "width": null
      }
     },
     "9a92c0a0657c41a48d6ffe7310df4d88": {
      "model_module": "@jupyter-widgets/base",
      "model_module_version": "1.2.0",
      "model_name": "LayoutModel",
      "state": {
       "_model_module": "@jupyter-widgets/base",
       "_model_module_version": "1.2.0",
       "_model_name": "LayoutModel",
       "_view_count": null,
       "_view_module": "@jupyter-widgets/base",
       "_view_module_version": "1.2.0",
       "_view_name": "LayoutView",
       "align_content": null,
       "align_items": null,
       "align_self": null,
       "border": null,
       "bottom": null,
       "display": null,
       "flex": null,
       "flex_flow": null,
       "grid_area": null,
       "grid_auto_columns": null,
       "grid_auto_flow": null,
       "grid_auto_rows": null,
       "grid_column": null,
       "grid_gap": null,
       "grid_row": null,
       "grid_template_areas": null,
       "grid_template_columns": null,
       "grid_template_rows": null,
       "height": null,
       "justify_content": null,
       "justify_items": null,
       "left": null,
       "margin": null,
       "max_height": null,
       "max_width": null,
       "min_height": null,
       "min_width": null,
       "object_fit": null,
       "object_position": null,
       "order": null,
       "overflow": null,
       "overflow_x": null,
       "overflow_y": null,
       "padding": null,
       "right": null,
       "top": null,
       "visibility": null,
       "width": null
      }
     },
     "9ed8e6bbc65b434dbdbff3faaa95d86a": {
      "model_module": "@jupyter-widgets/base",
      "model_module_version": "1.2.0",
      "model_name": "LayoutModel",
      "state": {
       "_model_module": "@jupyter-widgets/base",
       "_model_module_version": "1.2.0",
       "_model_name": "LayoutModel",
       "_view_count": null,
       "_view_module": "@jupyter-widgets/base",
       "_view_module_version": "1.2.0",
       "_view_name": "LayoutView",
       "align_content": null,
       "align_items": null,
       "align_self": null,
       "border": null,
       "bottom": null,
       "display": null,
       "flex": null,
       "flex_flow": null,
       "grid_area": null,
       "grid_auto_columns": null,
       "grid_auto_flow": null,
       "grid_auto_rows": null,
       "grid_column": null,
       "grid_gap": null,
       "grid_row": null,
       "grid_template_areas": null,
       "grid_template_columns": null,
       "grid_template_rows": null,
       "height": null,
       "justify_content": null,
       "justify_items": null,
       "left": null,
       "margin": null,
       "max_height": null,
       "max_width": null,
       "min_height": null,
       "min_width": null,
       "object_fit": null,
       "object_position": null,
       "order": null,
       "overflow": null,
       "overflow_x": null,
       "overflow_y": null,
       "padding": null,
       "right": null,
       "top": null,
       "visibility": null,
       "width": null
      }
     },
     "a0072b29d6b74189a1023e5167263131": {
      "model_module": "@jupyter-widgets/controls",
      "model_module_version": "1.5.0",
      "model_name": "DescriptionStyleModel",
      "state": {
       "_model_module": "@jupyter-widgets/controls",
       "_model_module_version": "1.5.0",
       "_model_name": "DescriptionStyleModel",
       "_view_count": null,
       "_view_module": "@jupyter-widgets/base",
       "_view_module_version": "1.2.0",
       "_view_name": "StyleView",
       "description_width": ""
      }
     },
     "a1ad3c811922426baf0a4295cb70ba15": {
      "model_module": "@jupyter-widgets/controls",
      "model_module_version": "1.5.0",
      "model_name": "FloatProgressModel",
      "state": {
       "_dom_classes": [],
       "_model_module": "@jupyter-widgets/controls",
       "_model_module_version": "1.5.0",
       "_model_name": "FloatProgressModel",
       "_view_count": null,
       "_view_module": "@jupyter-widgets/controls",
       "_view_module_version": "1.5.0",
       "_view_name": "ProgressView",
       "bar_style": "success",
       "description": "",
       "description_tooltip": null,
       "layout": "IPY_MODEL_daea090d20d643aabfa611ffa109a353",
       "max": 11.0,
       "min": 0.0,
       "orientation": "horizontal",
       "style": "IPY_MODEL_bbd3cd62bfcc4967892bb892a6f715fd",
       "value": 11.0
      }
     },
     "a1e484d8dc7d48daab361e6d87414173": {
      "model_module": "@jupyter-widgets/base",
      "model_module_version": "1.2.0",
      "model_name": "LayoutModel",
      "state": {
       "_model_module": "@jupyter-widgets/base",
       "_model_module_version": "1.2.0",
       "_model_name": "LayoutModel",
       "_view_count": null,
       "_view_module": "@jupyter-widgets/base",
       "_view_module_version": "1.2.0",
       "_view_name": "LayoutView",
       "align_content": null,
       "align_items": null,
       "align_self": null,
       "border": null,
       "bottom": null,
       "display": null,
       "flex": null,
       "flex_flow": null,
       "grid_area": null,
       "grid_auto_columns": null,
       "grid_auto_flow": null,
       "grid_auto_rows": null,
       "grid_column": null,
       "grid_gap": null,
       "grid_row": null,
       "grid_template_areas": null,
       "grid_template_columns": null,
       "grid_template_rows": null,
       "height": null,
       "justify_content": null,
       "justify_items": null,
       "left": null,
       "margin": null,
       "max_height": null,
       "max_width": null,
       "min_height": null,
       "min_width": null,
       "object_fit": null,
       "object_position": null,
       "order": null,
       "overflow": null,
       "overflow_x": null,
       "overflow_y": null,
       "padding": null,
       "right": null,
       "top": null,
       "visibility": null,
       "width": null
      }
     },
     "a5cea282df7b4c0980b12b4ef3fead59": {
      "model_module": "@jupyter-widgets/base",
      "model_module_version": "1.2.0",
      "model_name": "LayoutModel",
      "state": {
       "_model_module": "@jupyter-widgets/base",
       "_model_module_version": "1.2.0",
       "_model_name": "LayoutModel",
       "_view_count": null,
       "_view_module": "@jupyter-widgets/base",
       "_view_module_version": "1.2.0",
       "_view_name": "LayoutView",
       "align_content": null,
       "align_items": null,
       "align_self": null,
       "border": null,
       "bottom": null,
       "display": null,
       "flex": null,
       "flex_flow": null,
       "grid_area": null,
       "grid_auto_columns": null,
       "grid_auto_flow": null,
       "grid_auto_rows": null,
       "grid_column": null,
       "grid_gap": null,
       "grid_row": null,
       "grid_template_areas": null,
       "grid_template_columns": null,
       "grid_template_rows": null,
       "height": null,
       "justify_content": null,
       "justify_items": null,
       "left": null,
       "margin": null,
       "max_height": null,
       "max_width": null,
       "min_height": null,
       "min_width": null,
       "object_fit": null,
       "object_position": null,
       "order": null,
       "overflow": null,
       "overflow_x": null,
       "overflow_y": null,
       "padding": null,
       "right": null,
       "top": null,
       "visibility": null,
       "width": null
      }
     },
     "a7da2c5923aa49afaa9f1160be0aefe7": {
      "model_module": "@jupyter-widgets/base",
      "model_module_version": "1.2.0",
      "model_name": "LayoutModel",
      "state": {
       "_model_module": "@jupyter-widgets/base",
       "_model_module_version": "1.2.0",
       "_model_name": "LayoutModel",
       "_view_count": null,
       "_view_module": "@jupyter-widgets/base",
       "_view_module_version": "1.2.0",
       "_view_name": "LayoutView",
       "align_content": null,
       "align_items": null,
       "align_self": null,
       "border": null,
       "bottom": null,
       "display": null,
       "flex": null,
       "flex_flow": null,
       "grid_area": null,
       "grid_auto_columns": null,
       "grid_auto_flow": null,
       "grid_auto_rows": null,
       "grid_column": null,
       "grid_gap": null,
       "grid_row": null,
       "grid_template_areas": null,
       "grid_template_columns": null,
       "grid_template_rows": null,
       "height": null,
       "justify_content": null,
       "justify_items": null,
       "left": null,
       "margin": null,
       "max_height": null,
       "max_width": null,
       "min_height": null,
       "min_width": null,
       "object_fit": null,
       "object_position": null,
       "order": null,
       "overflow": null,
       "overflow_x": null,
       "overflow_y": null,
       "padding": null,
       "right": null,
       "top": null,
       "visibility": null,
       "width": null
      }
     },
     "ad2324420d1e4d18b010b841123b26c5": {
      "model_module": "@jupyter-widgets/controls",
      "model_module_version": "1.5.0",
      "model_name": "FloatProgressModel",
      "state": {
       "_dom_classes": [],
       "_model_module": "@jupyter-widgets/controls",
       "_model_module_version": "1.5.0",
       "_model_name": "FloatProgressModel",
       "_view_count": null,
       "_view_module": "@jupyter-widgets/controls",
       "_view_module_version": "1.5.0",
       "_view_name": "ProgressView",
       "bar_style": "success",
       "description": "",
       "description_tooltip": null,
       "layout": "IPY_MODEL_4ca6daf6e64942de83511b72054fdde2",
       "max": 147.0,
       "min": 0.0,
       "orientation": "horizontal",
       "style": "IPY_MODEL_828e2cc51e6548c8b7022a0adcaafcbc",
       "value": 147.0
      }
     },
     "b13992f881f24281908d68d1392f7bd3": {
      "model_module": "@jupyter-widgets/base",
      "model_module_version": "1.2.0",
      "model_name": "LayoutModel",
      "state": {
       "_model_module": "@jupyter-widgets/base",
       "_model_module_version": "1.2.0",
       "_model_name": "LayoutModel",
       "_view_count": null,
       "_view_module": "@jupyter-widgets/base",
       "_view_module_version": "1.2.0",
       "_view_name": "LayoutView",
       "align_content": null,
       "align_items": null,
       "align_self": null,
       "border": null,
       "bottom": null,
       "display": null,
       "flex": null,
       "flex_flow": null,
       "grid_area": null,
       "grid_auto_columns": null,
       "grid_auto_flow": null,
       "grid_auto_rows": null,
       "grid_column": null,
       "grid_gap": null,
       "grid_row": null,
       "grid_template_areas": null,
       "grid_template_columns": null,
       "grid_template_rows": null,
       "height": null,
       "justify_content": null,
       "justify_items": null,
       "left": null,
       "margin": null,
       "max_height": null,
       "max_width": null,
       "min_height": null,
       "min_width": null,
       "object_fit": null,
       "object_position": null,
       "order": null,
       "overflow": null,
       "overflow_x": null,
       "overflow_y": null,
       "padding": null,
       "right": null,
       "top": null,
       "visibility": null,
       "width": null
      }
     },
     "b26fd44b4dc1434fad75892c2d833fae": {
      "model_module": "@jupyter-widgets/base",
      "model_module_version": "1.2.0",
      "model_name": "LayoutModel",
      "state": {
       "_model_module": "@jupyter-widgets/base",
       "_model_module_version": "1.2.0",
       "_model_name": "LayoutModel",
       "_view_count": null,
       "_view_module": "@jupyter-widgets/base",
       "_view_module_version": "1.2.0",
       "_view_name": "LayoutView",
       "align_content": null,
       "align_items": null,
       "align_self": null,
       "border": null,
       "bottom": null,
       "display": null,
       "flex": null,
       "flex_flow": null,
       "grid_area": null,
       "grid_auto_columns": null,
       "grid_auto_flow": null,
       "grid_auto_rows": null,
       "grid_column": null,
       "grid_gap": null,
       "grid_row": null,
       "grid_template_areas": null,
       "grid_template_columns": null,
       "grid_template_rows": null,
       "height": null,
       "justify_content": null,
       "justify_items": null,
       "left": null,
       "margin": null,
       "max_height": null,
       "max_width": null,
       "min_height": null,
       "min_width": null,
       "object_fit": null,
       "object_position": null,
       "order": null,
       "overflow": null,
       "overflow_x": null,
       "overflow_y": null,
       "padding": null,
       "right": null,
       "top": null,
       "visibility": null,
       "width": null
      }
     },
     "b2f107e8f1514a23bc439970ae85bd4d": {
      "model_module": "@jupyter-widgets/controls",
      "model_module_version": "1.5.0",
      "model_name": "HTMLModel",
      "state": {
       "_dom_classes": [],
       "_model_module": "@jupyter-widgets/controls",
       "_model_module_version": "1.5.0",
       "_model_name": "HTMLModel",
       "_view_count": null,
       "_view_module": "@jupyter-widgets/controls",
       "_view_module_version": "1.5.0",
       "_view_name": "HTMLView",
       "description": "",
       "description_tooltip": null,
       "layout": "IPY_MODEL_3e424c05a2ad444b871685cb53184900",
       "placeholder": "​",
       "style": "IPY_MODEL_60b213aa0abb4e4c93b2e857848d7dd5",
       "value": " 518/518 [16:25&lt;00:00,  1.45s/it]"
      }
     },
     "b36d554502fa4ea286d5e5e0c272c5fe": {
      "model_module": "@jupyter-widgets/controls",
      "model_module_version": "1.5.0",
      "model_name": "FloatProgressModel",
      "state": {
       "_dom_classes": [],
       "_model_module": "@jupyter-widgets/controls",
       "_model_module_version": "1.5.0",
       "_model_name": "FloatProgressModel",
       "_view_count": null,
       "_view_module": "@jupyter-widgets/controls",
       "_view_module_version": "1.5.0",
       "_view_name": "ProgressView",
       "bar_style": "success",
       "description": "",
       "description_tooltip": null,
       "layout": "IPY_MODEL_bdd9ab001a2f4c93ad327782b4f567e0",
       "max": 2.0,
       "min": 0.0,
       "orientation": "horizontal",
       "style": "IPY_MODEL_614103595d8847329fa61cb38fdd989f",
       "value": 2.0
      }
     },
     "b5b4646ec6e34c5d80d3094f4dc378e7": {
      "model_module": "@jupyter-widgets/controls",
      "model_module_version": "1.5.0",
      "model_name": "HBoxModel",
      "state": {
       "_dom_classes": [],
       "_model_module": "@jupyter-widgets/controls",
       "_model_module_version": "1.5.0",
       "_model_name": "HBoxModel",
       "_view_count": null,
       "_view_module": "@jupyter-widgets/controls",
       "_view_module_version": "1.5.0",
       "_view_name": "HBoxView",
       "box_style": "",
       "children": [
        "IPY_MODEL_5a12bb5bbb9b4e3b876f4d0e2a89fafb",
        "IPY_MODEL_6efa8af7a31e450e9ced395fd2d2110d",
        "IPY_MODEL_02cb7cccd3704a15a3c0057bf780fb2f"
       ],
       "layout": "IPY_MODEL_757dc45b8a054764a12174104dbd0ba2"
      }
     },
     "b629e5234b6840e69e5876340479a3af": {
      "model_module": "@jupyter-widgets/controls",
      "model_module_version": "1.5.0",
      "model_name": "DescriptionStyleModel",
      "state": {
       "_model_module": "@jupyter-widgets/controls",
       "_model_module_version": "1.5.0",
       "_model_name": "DescriptionStyleModel",
       "_view_count": null,
       "_view_module": "@jupyter-widgets/base",
       "_view_module_version": "1.2.0",
       "_view_name": "StyleView",
       "description_width": ""
      }
     },
     "b659dd1ae8454d7693139baa12ebd1bd": {
      "model_module": "@jupyter-widgets/base",
      "model_module_version": "1.2.0",
      "model_name": "LayoutModel",
      "state": {
       "_model_module": "@jupyter-widgets/base",
       "_model_module_version": "1.2.0",
       "_model_name": "LayoutModel",
       "_view_count": null,
       "_view_module": "@jupyter-widgets/base",
       "_view_module_version": "1.2.0",
       "_view_name": "LayoutView",
       "align_content": null,
       "align_items": null,
       "align_self": null,
       "border": null,
       "bottom": null,
       "display": null,
       "flex": null,
       "flex_flow": null,
       "grid_area": null,
       "grid_auto_columns": null,
       "grid_auto_flow": null,
       "grid_auto_rows": null,
       "grid_column": null,
       "grid_gap": null,
       "grid_row": null,
       "grid_template_areas": null,
       "grid_template_columns": null,
       "grid_template_rows": null,
       "height": null,
       "justify_content": null,
       "justify_items": null,
       "left": null,
       "margin": null,
       "max_height": null,
       "max_width": null,
       "min_height": null,
       "min_width": null,
       "object_fit": null,
       "object_position": null,
       "order": null,
       "overflow": null,
       "overflow_x": null,
       "overflow_y": null,
       "padding": null,
       "right": null,
       "top": null,
       "visibility": null,
       "width": "20px"
      }
     },
     "b6924538a6004cb2bee1975744848a63": {
      "model_module": "@jupyter-widgets/controls",
      "model_module_version": "1.5.0",
      "model_name": "DescriptionStyleModel",
      "state": {
       "_model_module": "@jupyter-widgets/controls",
       "_model_module_version": "1.5.0",
       "_model_name": "DescriptionStyleModel",
       "_view_count": null,
       "_view_module": "@jupyter-widgets/base",
       "_view_module_version": "1.2.0",
       "_view_name": "StyleView",
       "description_width": ""
      }
     },
     "b7232a9c788e4aa7b2294d3af1b09674": {
      "model_module": "@jupyter-widgets/base",
      "model_module_version": "1.2.0",
      "model_name": "LayoutModel",
      "state": {
       "_model_module": "@jupyter-widgets/base",
       "_model_module_version": "1.2.0",
       "_model_name": "LayoutModel",
       "_view_count": null,
       "_view_module": "@jupyter-widgets/base",
       "_view_module_version": "1.2.0",
       "_view_name": "LayoutView",
       "align_content": null,
       "align_items": null,
       "align_self": null,
       "border": null,
       "bottom": null,
       "display": null,
       "flex": null,
       "flex_flow": null,
       "grid_area": null,
       "grid_auto_columns": null,
       "grid_auto_flow": null,
       "grid_auto_rows": null,
       "grid_column": null,
       "grid_gap": null,
       "grid_row": null,
       "grid_template_areas": null,
       "grid_template_columns": null,
       "grid_template_rows": null,
       "height": null,
       "justify_content": null,
       "justify_items": null,
       "left": null,
       "margin": null,
       "max_height": null,
       "max_width": null,
       "min_height": null,
       "min_width": null,
       "object_fit": null,
       "object_position": null,
       "order": null,
       "overflow": null,
       "overflow_x": null,
       "overflow_y": null,
       "padding": null,
       "right": null,
       "top": null,
       "visibility": null,
       "width": null
      }
     },
     "bb267cffdb1b4b2f9a5acff0e56f1c4c": {
      "model_module": "@jupyter-widgets/controls",
      "model_module_version": "1.5.0",
      "model_name": "HTMLModel",
      "state": {
       "_dom_classes": [],
       "_model_module": "@jupyter-widgets/controls",
       "_model_module_version": "1.5.0",
       "_model_name": "HTMLModel",
       "_view_count": null,
       "_view_module": "@jupyter-widgets/controls",
       "_view_module_version": "1.5.0",
       "_view_name": "HTMLView",
       "description": "",
       "description_tooltip": null,
       "layout": "IPY_MODEL_259fb3be511f4c989986992a9ec4b4f3",
       "placeholder": "​",
       "style": "IPY_MODEL_6808d41f43d54b3687fb34f6fbdf0dd8",
       "value": "Extracting data files: 100%"
      }
     },
     "bbd3cd62bfcc4967892bb892a6f715fd": {
      "model_module": "@jupyter-widgets/controls",
      "model_module_version": "1.5.0",
      "model_name": "ProgressStyleModel",
      "state": {
       "_model_module": "@jupyter-widgets/controls",
       "_model_module_version": "1.5.0",
       "_model_name": "ProgressStyleModel",
       "_view_count": null,
       "_view_module": "@jupyter-widgets/base",
       "_view_module_version": "1.2.0",
       "_view_name": "StyleView",
       "bar_color": null,
       "description_width": ""
      }
     },
     "bc16436ae2d54dadb8bb762f28ac0814": {
      "model_module": "@jupyter-widgets/controls",
      "model_module_version": "1.5.0",
      "model_name": "FloatProgressModel",
      "state": {
       "_dom_classes": [],
       "_model_module": "@jupyter-widgets/controls",
       "_model_module_version": "1.5.0",
       "_model_name": "FloatProgressModel",
       "_view_count": null,
       "_view_module": "@jupyter-widgets/controls",
       "_view_module_version": "1.5.0",
       "_view_name": "ProgressView",
       "bar_style": "success",
       "description": "",
       "description_tooltip": null,
       "layout": "IPY_MODEL_4f188371ff63476b8c7731b1127322ea",
       "max": 518.0,
       "min": 0.0,
       "orientation": "horizontal",
       "style": "IPY_MODEL_5371bebc51dd402d80aa5d0da17969f1",
       "value": 518.0
      }
     },
     "bdd9ab001a2f4c93ad327782b4f567e0": {
      "model_module": "@jupyter-widgets/base",
      "model_module_version": "1.2.0",
      "model_name": "LayoutModel",
      "state": {
       "_model_module": "@jupyter-widgets/base",
       "_model_module_version": "1.2.0",
       "_model_name": "LayoutModel",
       "_view_count": null,
       "_view_module": "@jupyter-widgets/base",
       "_view_module_version": "1.2.0",
       "_view_name": "LayoutView",
       "align_content": null,
       "align_items": null,
       "align_self": null,
       "border": null,
       "bottom": null,
       "display": null,
       "flex": null,
       "flex_flow": null,
       "grid_area": null,
       "grid_auto_columns": null,
       "grid_auto_flow": null,
       "grid_auto_rows": null,
       "grid_column": null,
       "grid_gap": null,
       "grid_row": null,
       "grid_template_areas": null,
       "grid_template_columns": null,
       "grid_template_rows": null,
       "height": null,
       "justify_content": null,
       "justify_items": null,
       "left": null,
       "margin": null,
       "max_height": null,
       "max_width": null,
       "min_height": null,
       "min_width": null,
       "object_fit": null,
       "object_position": null,
       "order": null,
       "overflow": null,
       "overflow_x": null,
       "overflow_y": null,
       "padding": null,
       "right": null,
       "top": null,
       "visibility": null,
       "width": null
      }
     },
     "bfb8147eca274d5bb7d206251243fcf6": {
      "model_module": "@jupyter-widgets/controls",
      "model_module_version": "1.5.0",
      "model_name": "DescriptionStyleModel",
      "state": {
       "_model_module": "@jupyter-widgets/controls",
       "_model_module_version": "1.5.0",
       "_model_name": "DescriptionStyleModel",
       "_view_count": null,
       "_view_module": "@jupyter-widgets/base",
       "_view_module_version": "1.2.0",
       "_view_name": "StyleView",
       "description_width": ""
      }
     },
     "c38233db80ef4d3689db3e5ce813eff2": {
      "model_module": "@jupyter-widgets/controls",
      "model_module_version": "1.5.0",
      "model_name": "HTMLModel",
      "state": {
       "_dom_classes": [],
       "_model_module": "@jupyter-widgets/controls",
       "_model_module_version": "1.5.0",
       "_model_name": "HTMLModel",
       "_view_count": null,
       "_view_module": "@jupyter-widgets/controls",
       "_view_module_version": "1.5.0",
       "_view_name": "HTMLView",
       "description": "",
       "description_tooltip": null,
       "layout": "IPY_MODEL_1c72dd8ef0ee449097a6e4efe539951b",
       "placeholder": "​",
       "style": "IPY_MODEL_17b8d7d7b54a4b918bb67a512bdbe291",
       "value": "100%"
      }
     },
     "c5085514381345218b70285658e24dcc": {
      "model_module": "@jupyter-widgets/controls",
      "model_module_version": "1.5.0",
      "model_name": "HTMLModel",
      "state": {
       "_dom_classes": [],
       "_model_module": "@jupyter-widgets/controls",
       "_model_module_version": "1.5.0",
       "_model_name": "HTMLModel",
       "_view_count": null,
       "_view_module": "@jupyter-widgets/controls",
       "_view_module_version": "1.5.0",
       "_view_name": "HTMLView",
       "description": "",
       "description_tooltip": null,
       "layout": "IPY_MODEL_4562f0060cc548a1b7d5f0a97f3cb9d3",
       "placeholder": "​",
       "style": "IPY_MODEL_6890baf5c606452398be1c8ae2ab6895",
       "value": "100%"
      }
     },
     "c554799e46974ff5b77b26cda613f77f": {
      "model_module": "@jupyter-widgets/controls",
      "model_module_version": "1.5.0",
      "model_name": "DescriptionStyleModel",
      "state": {
       "_model_module": "@jupyter-widgets/controls",
       "_model_module_version": "1.5.0",
       "_model_name": "DescriptionStyleModel",
       "_view_count": null,
       "_view_module": "@jupyter-widgets/base",
       "_view_module_version": "1.2.0",
       "_view_name": "StyleView",
       "description_width": ""
      }
     },
     "c5bba0cbb6744e20bf2f6ea0918a61ff": {
      "model_module": "@jupyter-widgets/controls",
      "model_module_version": "1.5.0",
      "model_name": "HTMLModel",
      "state": {
       "_dom_classes": [],
       "_model_module": "@jupyter-widgets/controls",
       "_model_module_version": "1.5.0",
       "_model_name": "HTMLModel",
       "_view_count": null,
       "_view_module": "@jupyter-widgets/controls",
       "_view_module_version": "1.5.0",
       "_view_name": "HTMLView",
       "description": "",
       "description_tooltip": null,
       "layout": "IPY_MODEL_a7da2c5923aa49afaa9f1160be0aefe7",
       "placeholder": "​",
       "style": "IPY_MODEL_5fff3b0e2b584b30a53c1b020a600651",
       "value": "100%"
      }
     },
     "c8c12a8aa25742f7a0d6a3db624ec7be": {
      "model_module": "@jupyter-widgets/base",
      "model_module_version": "1.2.0",
      "model_name": "LayoutModel",
      "state": {
       "_model_module": "@jupyter-widgets/base",
       "_model_module_version": "1.2.0",
       "_model_name": "LayoutModel",
       "_view_count": null,
       "_view_module": "@jupyter-widgets/base",
       "_view_module_version": "1.2.0",
       "_view_name": "LayoutView",
       "align_content": null,
       "align_items": null,
       "align_self": null,
       "border": null,
       "bottom": null,
       "display": null,
       "flex": null,
       "flex_flow": null,
       "grid_area": null,
       "grid_auto_columns": null,
       "grid_auto_flow": null,
       "grid_auto_rows": null,
       "grid_column": null,
       "grid_gap": null,
       "grid_row": null,
       "grid_template_areas": null,
       "grid_template_columns": null,
       "grid_template_rows": null,
       "height": null,
       "justify_content": null,
       "justify_items": null,
       "left": null,
       "margin": null,
       "max_height": null,
       "max_width": null,
       "min_height": null,
       "min_width": null,
       "object_fit": null,
       "object_position": null,
       "order": null,
       "overflow": null,
       "overflow_x": null,
       "overflow_y": null,
       "padding": null,
       "right": null,
       "top": null,
       "visibility": null,
       "width": null
      }
     },
     "ccdafbcb2c2b4f1a8b804b22545fd07f": {
      "model_module": "@jupyter-widgets/controls",
      "model_module_version": "1.5.0",
      "model_name": "FloatProgressModel",
      "state": {
       "_dom_classes": [],
       "_model_module": "@jupyter-widgets/controls",
       "_model_module_version": "1.5.0",
       "_model_name": "FloatProgressModel",
       "_view_count": null,
       "_view_module": "@jupyter-widgets/controls",
       "_view_module_version": "1.5.0",
       "_view_name": "ProgressView",
       "bar_style": "success",
       "description": "",
       "description_tooltip": null,
       "layout": "IPY_MODEL_44ed4d3179b146ed85f623105065e13b",
       "max": 19.0,
       "min": 0.0,
       "orientation": "horizontal",
       "style": "IPY_MODEL_06be7451250d4b8694b46c70110034ae",
       "value": 19.0
      }
     },
     "cf75ee216b9847ada9c8e663ccfeab71": {
      "model_module": "@jupyter-widgets/base",
      "model_module_version": "1.2.0",
      "model_name": "LayoutModel",
      "state": {
       "_model_module": "@jupyter-widgets/base",
       "_model_module_version": "1.2.0",
       "_model_name": "LayoutModel",
       "_view_count": null,
       "_view_module": "@jupyter-widgets/base",
       "_view_module_version": "1.2.0",
       "_view_name": "LayoutView",
       "align_content": null,
       "align_items": null,
       "align_self": null,
       "border": null,
       "bottom": null,
       "display": null,
       "flex": null,
       "flex_flow": null,
       "grid_area": null,
       "grid_auto_columns": null,
       "grid_auto_flow": null,
       "grid_auto_rows": null,
       "grid_column": null,
       "grid_gap": null,
       "grid_row": null,
       "grid_template_areas": null,
       "grid_template_columns": null,
       "grid_template_rows": null,
       "height": null,
       "justify_content": null,
       "justify_items": null,
       "left": null,
       "margin": null,
       "max_height": null,
       "max_width": null,
       "min_height": null,
       "min_width": null,
       "object_fit": null,
       "object_position": null,
       "order": null,
       "overflow": null,
       "overflow_x": null,
       "overflow_y": null,
       "padding": null,
       "right": null,
       "top": null,
       "visibility": null,
       "width": null
      }
     },
     "d05736efb2ee4ade9a396a2c9c58d6ec": {
      "model_module": "@jupyter-widgets/base",
      "model_module_version": "1.2.0",
      "model_name": "LayoutModel",
      "state": {
       "_model_module": "@jupyter-widgets/base",
       "_model_module_version": "1.2.0",
       "_model_name": "LayoutModel",
       "_view_count": null,
       "_view_module": "@jupyter-widgets/base",
       "_view_module_version": "1.2.0",
       "_view_name": "LayoutView",
       "align_content": null,
       "align_items": null,
       "align_self": null,
       "border": null,
       "bottom": null,
       "display": null,
       "flex": null,
       "flex_flow": null,
       "grid_area": null,
       "grid_auto_columns": null,
       "grid_auto_flow": null,
       "grid_auto_rows": null,
       "grid_column": null,
       "grid_gap": null,
       "grid_row": null,
       "grid_template_areas": null,
       "grid_template_columns": null,
       "grid_template_rows": null,
       "height": null,
       "justify_content": null,
       "justify_items": null,
       "left": null,
       "margin": null,
       "max_height": null,
       "max_width": null,
       "min_height": null,
       "min_width": null,
       "object_fit": null,
       "object_position": null,
       "order": null,
       "overflow": null,
       "overflow_x": null,
       "overflow_y": null,
       "padding": null,
       "right": null,
       "top": null,
       "visibility": null,
       "width": null
      }
     },
     "d50055d2c9c341a0b6a8694c23f6d61b": {
      "model_module": "@jupyter-widgets/base",
      "model_module_version": "1.2.0",
      "model_name": "LayoutModel",
      "state": {
       "_model_module": "@jupyter-widgets/base",
       "_model_module_version": "1.2.0",
       "_model_name": "LayoutModel",
       "_view_count": null,
       "_view_module": "@jupyter-widgets/base",
       "_view_module_version": "1.2.0",
       "_view_name": "LayoutView",
       "align_content": null,
       "align_items": null,
       "align_self": null,
       "border": null,
       "bottom": null,
       "display": null,
       "flex": null,
       "flex_flow": null,
       "grid_area": null,
       "grid_auto_columns": null,
       "grid_auto_flow": null,
       "grid_auto_rows": null,
       "grid_column": null,
       "grid_gap": null,
       "grid_row": null,
       "grid_template_areas": null,
       "grid_template_columns": null,
       "grid_template_rows": null,
       "height": null,
       "justify_content": null,
       "justify_items": null,
       "left": null,
       "margin": null,
       "max_height": null,
       "max_width": null,
       "min_height": null,
       "min_width": null,
       "object_fit": null,
       "object_position": null,
       "order": null,
       "overflow": null,
       "overflow_x": null,
       "overflow_y": null,
       "padding": null,
       "right": null,
       "top": null,
       "visibility": null,
       "width": null
      }
     },
     "d5297ee712e0463c99fb2c5a3a825b81": {
      "model_module": "@jupyter-widgets/controls",
      "model_module_version": "1.5.0",
      "model_name": "DescriptionStyleModel",
      "state": {
       "_model_module": "@jupyter-widgets/controls",
       "_model_module_version": "1.5.0",
       "_model_name": "DescriptionStyleModel",
       "_view_count": null,
       "_view_module": "@jupyter-widgets/base",
       "_view_module_version": "1.2.0",
       "_view_name": "StyleView",
       "description_width": ""
      }
     },
     "d62214adadf34f049d8b5471230ba478": {
      "model_module": "@jupyter-widgets/controls",
      "model_module_version": "1.5.0",
      "model_name": "HTMLModel",
      "state": {
       "_dom_classes": [],
       "_model_module": "@jupyter-widgets/controls",
       "_model_module_version": "1.5.0",
       "_model_name": "HTMLModel",
       "_view_count": null,
       "_view_module": "@jupyter-widgets/controls",
       "_view_module_version": "1.5.0",
       "_view_name": "HTMLView",
       "description": "",
       "description_tooltip": null,
       "layout": "IPY_MODEL_d9a04499935447eea521efcc245f25c1",
       "placeholder": "​",
       "style": "IPY_MODEL_831f34e99d684c15b46a2312b50d6f28",
       "value": " 2/2 [00:00&lt;00:00, 47.92it/s]"
      }
     },
     "d7dcd060da4145f2900511bdf9bd63fe": {
      "model_module": "@jupyter-widgets/controls",
      "model_module_version": "1.5.0",
      "model_name": "DescriptionStyleModel",
      "state": {
       "_model_module": "@jupyter-widgets/controls",
       "_model_module_version": "1.5.0",
       "_model_name": "DescriptionStyleModel",
       "_view_count": null,
       "_view_module": "@jupyter-widgets/base",
       "_view_module_version": "1.2.0",
       "_view_name": "StyleView",
       "description_width": ""
      }
     },
     "d8af419a3a2c4cb494e9a44cf66be8f7": {
      "model_module": "@jupyter-widgets/controls",
      "model_module_version": "1.5.0",
      "model_name": "HTMLModel",
      "state": {
       "_dom_classes": [],
       "_model_module": "@jupyter-widgets/controls",
       "_model_module_version": "1.5.0",
       "_model_name": "HTMLModel",
       "_view_count": null,
       "_view_module": "@jupyter-widgets/controls",
       "_view_module_version": "1.5.0",
       "_view_name": "HTMLView",
       "description": "",
       "description_tooltip": null,
       "layout": "IPY_MODEL_a1e484d8dc7d48daab361e6d87414173",
       "placeholder": "​",
       "style": "IPY_MODEL_657c09ed72a94a3f920f0e8349518c88",
       "value": " 1.21k/? [00:00&lt;00:00, 32.1kB/s]"
      }
     },
     "d9a04499935447eea521efcc245f25c1": {
      "model_module": "@jupyter-widgets/base",
      "model_module_version": "1.2.0",
      "model_name": "LayoutModel",
      "state": {
       "_model_module": "@jupyter-widgets/base",
       "_model_module_version": "1.2.0",
       "_model_name": "LayoutModel",
       "_view_count": null,
       "_view_module": "@jupyter-widgets/base",
       "_view_module_version": "1.2.0",
       "_view_name": "LayoutView",
       "align_content": null,
       "align_items": null,
       "align_self": null,
       "border": null,
       "bottom": null,
       "display": null,
       "flex": null,
       "flex_flow": null,
       "grid_area": null,
       "grid_auto_columns": null,
       "grid_auto_flow": null,
       "grid_auto_rows": null,
       "grid_column": null,
       "grid_gap": null,
       "grid_row": null,
       "grid_template_areas": null,
       "grid_template_columns": null,
       "grid_template_rows": null,
       "height": null,
       "justify_content": null,
       "justify_items": null,
       "left": null,
       "margin": null,
       "max_height": null,
       "max_width": null,
       "min_height": null,
       "min_width": null,
       "object_fit": null,
       "object_position": null,
       "order": null,
       "overflow": null,
       "overflow_x": null,
       "overflow_y": null,
       "padding": null,
       "right": null,
       "top": null,
       "visibility": null,
       "width": null
      }
     },
     "d9bc7a96019b4b64a6033a147f3540a3": {
      "model_module": "@jupyter-widgets/controls",
      "model_module_version": "1.5.0",
      "model_name": "ProgressStyleModel",
      "state": {
       "_model_module": "@jupyter-widgets/controls",
       "_model_module_version": "1.5.0",
       "_model_name": "ProgressStyleModel",
       "_view_count": null,
       "_view_module": "@jupyter-widgets/base",
       "_view_module_version": "1.2.0",
       "_view_name": "StyleView",
       "bar_color": null,
       "description_width": ""
      }
     },
     "dac69bfc8772447fbab0038544296cb1": {
      "model_module": "@jupyter-widgets/controls",
      "model_module_version": "1.5.0",
      "model_name": "HBoxModel",
      "state": {
       "_dom_classes": [],
       "_model_module": "@jupyter-widgets/controls",
       "_model_module_version": "1.5.0",
       "_model_name": "HBoxModel",
       "_view_count": null,
       "_view_module": "@jupyter-widgets/controls",
       "_view_module_version": "1.5.0",
       "_view_name": "HBoxView",
       "box_style": "",
       "children": [
        "IPY_MODEL_c5085514381345218b70285658e24dcc",
        "IPY_MODEL_ccdafbcb2c2b4f1a8b804b22545fd07f",
        "IPY_MODEL_3dbe107527114c649975e0c010b26fe1"
       ],
       "layout": "IPY_MODEL_44c7fc10e015496191e5c4d12f73337f"
      }
     },
     "daea090d20d643aabfa611ffa109a353": {
      "model_module": "@jupyter-widgets/base",
      "model_module_version": "1.2.0",
      "model_name": "LayoutModel",
      "state": {
       "_model_module": "@jupyter-widgets/base",
       "_model_module_version": "1.2.0",
       "_model_name": "LayoutModel",
       "_view_count": null,
       "_view_module": "@jupyter-widgets/base",
       "_view_module_version": "1.2.0",
       "_view_name": "LayoutView",
       "align_content": null,
       "align_items": null,
       "align_self": null,
       "border": null,
       "bottom": null,
       "display": null,
       "flex": null,
       "flex_flow": null,
       "grid_area": null,
       "grid_auto_columns": null,
       "grid_auto_flow": null,
       "grid_auto_rows": null,
       "grid_column": null,
       "grid_gap": null,
       "grid_row": null,
       "grid_template_areas": null,
       "grid_template_columns": null,
       "grid_template_rows": null,
       "height": null,
       "justify_content": null,
       "justify_items": null,
       "left": null,
       "margin": null,
       "max_height": null,
       "max_width": null,
       "min_height": null,
       "min_width": null,
       "object_fit": null,
       "object_position": null,
       "order": null,
       "overflow": null,
       "overflow_x": null,
       "overflow_y": null,
       "padding": null,
       "right": null,
       "top": null,
       "visibility": null,
       "width": null
      }
     },
     "dc4673560dbd40abb3f64c4a33cf52ca": {
      "model_module": "@jupyter-widgets/base",
      "model_module_version": "1.2.0",
      "model_name": "LayoutModel",
      "state": {
       "_model_module": "@jupyter-widgets/base",
       "_model_module_version": "1.2.0",
       "_model_name": "LayoutModel",
       "_view_count": null,
       "_view_module": "@jupyter-widgets/base",
       "_view_module_version": "1.2.0",
       "_view_name": "LayoutView",
       "align_content": null,
       "align_items": null,
       "align_self": null,
       "border": null,
       "bottom": null,
       "display": null,
       "flex": null,
       "flex_flow": null,
       "grid_area": null,
       "grid_auto_columns": null,
       "grid_auto_flow": null,
       "grid_auto_rows": null,
       "grid_column": null,
       "grid_gap": null,
       "grid_row": null,
       "grid_template_areas": null,
       "grid_template_columns": null,
       "grid_template_rows": null,
       "height": null,
       "justify_content": null,
       "justify_items": null,
       "left": null,
       "margin": null,
       "max_height": null,
       "max_width": null,
       "min_height": null,
       "min_width": null,
       "object_fit": null,
       "object_position": null,
       "order": null,
       "overflow": null,
       "overflow_x": null,
       "overflow_y": null,
       "padding": null,
       "right": null,
       "top": null,
       "visibility": null,
       "width": null
      }
     },
     "de0970ad2fc44e7d969ff76b11e06099": {
      "model_module": "@jupyter-widgets/base",
      "model_module_version": "1.2.0",
      "model_name": "LayoutModel",
      "state": {
       "_model_module": "@jupyter-widgets/base",
       "_model_module_version": "1.2.0",
       "_model_name": "LayoutModel",
       "_view_count": null,
       "_view_module": "@jupyter-widgets/base",
       "_view_module_version": "1.2.0",
       "_view_name": "LayoutView",
       "align_content": null,
       "align_items": null,
       "align_self": null,
       "border": null,
       "bottom": null,
       "display": null,
       "flex": null,
       "flex_flow": null,
       "grid_area": null,
       "grid_auto_columns": null,
       "grid_auto_flow": null,
       "grid_auto_rows": null,
       "grid_column": null,
       "grid_gap": null,
       "grid_row": null,
       "grid_template_areas": null,
       "grid_template_columns": null,
       "grid_template_rows": null,
       "height": null,
       "justify_content": null,
       "justify_items": null,
       "left": null,
       "margin": null,
       "max_height": null,
       "max_width": null,
       "min_height": null,
       "min_width": null,
       "object_fit": null,
       "object_position": null,
       "order": null,
       "overflow": null,
       "overflow_x": null,
       "overflow_y": null,
       "padding": null,
       "right": null,
       "top": null,
       "visibility": null,
       "width": "20px"
      }
     },
     "df91bf35956c4e6880bfd4e80857efda": {
      "model_module": "@jupyter-widgets/base",
      "model_module_version": "1.2.0",
      "model_name": "LayoutModel",
      "state": {
       "_model_module": "@jupyter-widgets/base",
       "_model_module_version": "1.2.0",
       "_model_name": "LayoutModel",
       "_view_count": null,
       "_view_module": "@jupyter-widgets/base",
       "_view_module_version": "1.2.0",
       "_view_name": "LayoutView",
       "align_content": null,
       "align_items": null,
       "align_self": null,
       "border": null,
       "bottom": null,
       "display": null,
       "flex": null,
       "flex_flow": null,
       "grid_area": null,
       "grid_auto_columns": null,
       "grid_auto_flow": null,
       "grid_auto_rows": null,
       "grid_column": null,
       "grid_gap": null,
       "grid_row": null,
       "grid_template_areas": null,
       "grid_template_columns": null,
       "grid_template_rows": null,
       "height": null,
       "justify_content": null,
       "justify_items": null,
       "left": null,
       "margin": null,
       "max_height": null,
       "max_width": null,
       "min_height": null,
       "min_width": null,
       "object_fit": null,
       "object_position": null,
       "order": null,
       "overflow": null,
       "overflow_x": null,
       "overflow_y": null,
       "padding": null,
       "right": null,
       "top": null,
       "visibility": null,
       "width": null
      }
     },
     "e10dc9ac0e064364a3511ca26f4077cc": {
      "model_module": "@jupyter-widgets/base",
      "model_module_version": "1.2.0",
      "model_name": "LayoutModel",
      "state": {
       "_model_module": "@jupyter-widgets/base",
       "_model_module_version": "1.2.0",
       "_model_name": "LayoutModel",
       "_view_count": null,
       "_view_module": "@jupyter-widgets/base",
       "_view_module_version": "1.2.0",
       "_view_name": "LayoutView",
       "align_content": null,
       "align_items": null,
       "align_self": null,
       "border": null,
       "bottom": null,
       "display": null,
       "flex": null,
       "flex_flow": null,
       "grid_area": null,
       "grid_auto_columns": null,
       "grid_auto_flow": null,
       "grid_auto_rows": null,
       "grid_column": null,
       "grid_gap": null,
       "grid_row": null,
       "grid_template_areas": null,
       "grid_template_columns": null,
       "grid_template_rows": null,
       "height": null,
       "justify_content": null,
       "justify_items": null,
       "left": null,
       "margin": null,
       "max_height": null,
       "max_width": null,
       "min_height": null,
       "min_width": null,
       "object_fit": null,
       "object_position": null,
       "order": null,
       "overflow": null,
       "overflow_x": null,
       "overflow_y": null,
       "padding": null,
       "right": null,
       "top": null,
       "visibility": null,
       "width": null
      }
     },
     "e1931f91b83740e8b6eff6a971a4dddc": {
      "model_module": "@jupyter-widgets/base",
      "model_module_version": "1.2.0",
      "model_name": "LayoutModel",
      "state": {
       "_model_module": "@jupyter-widgets/base",
       "_model_module_version": "1.2.0",
       "_model_name": "LayoutModel",
       "_view_count": null,
       "_view_module": "@jupyter-widgets/base",
       "_view_module_version": "1.2.0",
       "_view_name": "LayoutView",
       "align_content": null,
       "align_items": null,
       "align_self": null,
       "border": null,
       "bottom": null,
       "display": null,
       "flex": null,
       "flex_flow": null,
       "grid_area": null,
       "grid_auto_columns": null,
       "grid_auto_flow": null,
       "grid_auto_rows": null,
       "grid_column": null,
       "grid_gap": null,
       "grid_row": null,
       "grid_template_areas": null,
       "grid_template_columns": null,
       "grid_template_rows": null,
       "height": null,
       "justify_content": null,
       "justify_items": null,
       "left": null,
       "margin": null,
       "max_height": null,
       "max_width": null,
       "min_height": null,
       "min_width": null,
       "object_fit": null,
       "object_position": null,
       "order": null,
       "overflow": null,
       "overflow_x": null,
       "overflow_y": null,
       "padding": null,
       "right": null,
       "top": null,
       "visibility": null,
       "width": null
      }
     },
     "ed7cde1df1eb4cd38ee9a65a3b881e50": {
      "model_module": "@jupyter-widgets/controls",
      "model_module_version": "1.5.0",
      "model_name": "HTMLModel",
      "state": {
       "_dom_classes": [],
       "_model_module": "@jupyter-widgets/controls",
       "_model_module_version": "1.5.0",
       "_model_name": "HTMLModel",
       "_view_count": null,
       "_view_module": "@jupyter-widgets/controls",
       "_view_module_version": "1.5.0",
       "_view_name": "HTMLView",
       "description": "",
       "description_tooltip": null,
       "layout": "IPY_MODEL_202acca476354989ae056da5e35c6592",
       "placeholder": "​",
       "style": "IPY_MODEL_bfb8147eca274d5bb7d206251243fcf6",
       "value": " 1.05k/? [00:00&lt;00:00, 19.3kB/s]"
      }
     },
     "ed8a43fa67714a38a840520862251638": {
      "model_module": "@jupyter-widgets/controls",
      "model_module_version": "1.5.0",
      "model_name": "HTMLModel",
      "state": {
       "_dom_classes": [],
       "_model_module": "@jupyter-widgets/controls",
       "_model_module_version": "1.5.0",
       "_model_name": "HTMLModel",
       "_view_count": null,
       "_view_module": "@jupyter-widgets/controls",
       "_view_module_version": "1.5.0",
       "_view_name": "HTMLView",
       "description": "",
       "description_tooltip": null,
       "layout": "IPY_MODEL_f06e5724ace14cb2b90f130b20b28fba",
       "placeholder": "​",
       "style": "IPY_MODEL_53046fc9bdef45628a9d4536e676c7b2",
       "value": " 792k/792k [00:00&lt;00:00, 5.15MB/s]"
      }
     },
     "edaae8b4635e4890928fffe2bd0ceb25": {
      "model_module": "@jupyter-widgets/controls",
      "model_module_version": "1.5.0",
      "model_name": "HTMLModel",
      "state": {
       "_dom_classes": [],
       "_model_module": "@jupyter-widgets/controls",
       "_model_module_version": "1.5.0",
       "_model_name": "HTMLModel",
       "_view_count": null,
       "_view_module": "@jupyter-widgets/controls",
       "_view_module_version": "1.5.0",
       "_view_name": "HTMLView",
       "description": "",
       "description_tooltip": null,
       "layout": "IPY_MODEL_62e9f4191e52436983a72218dbf80ca9",
       "placeholder": "​",
       "style": "IPY_MODEL_4880d4e4582b437aaa32f12f9ed13f72",
       "value": "Downloading (…)ve/main/spiece.model: 100%"
      }
     },
     "f06e5724ace14cb2b90f130b20b28fba": {
      "model_module": "@jupyter-widgets/base",
      "model_module_version": "1.2.0",
      "model_name": "LayoutModel",
      "state": {
       "_model_module": "@jupyter-widgets/base",
       "_model_module_version": "1.2.0",
       "_model_name": "LayoutModel",
       "_view_count": null,
       "_view_module": "@jupyter-widgets/base",
       "_view_module_version": "1.2.0",
       "_view_name": "LayoutView",
       "align_content": null,
       "align_items": null,
       "align_self": null,
       "border": null,
       "bottom": null,
       "display": null,
       "flex": null,
       "flex_flow": null,
       "grid_area": null,
       "grid_auto_columns": null,
       "grid_auto_flow": null,
       "grid_auto_rows": null,
       "grid_column": null,
       "grid_gap": null,
       "grid_row": null,
       "grid_template_areas": null,
       "grid_template_columns": null,
       "grid_template_rows": null,
       "height": null,
       "justify_content": null,
       "justify_items": null,
       "left": null,
       "margin": null,
       "max_height": null,
       "max_width": null,
       "min_height": null,
       "min_width": null,
       "object_fit": null,
       "object_position": null,
       "order": null,
       "overflow": null,
       "overflow_x": null,
       "overflow_y": null,
       "padding": null,
       "right": null,
       "top": null,
       "visibility": null,
       "width": null
      }
     },
     "f085f4d6f8824587a01f086a57feac93": {
      "model_module": "@jupyter-widgets/controls",
      "model_module_version": "1.5.0",
      "model_name": "FloatProgressModel",
      "state": {
       "_dom_classes": [],
       "_model_module": "@jupyter-widgets/controls",
       "_model_module_version": "1.5.0",
       "_model_name": "FloatProgressModel",
       "_view_count": null,
       "_view_module": "@jupyter-widgets/controls",
       "_view_module_version": "1.5.0",
       "_view_name": "ProgressView",
       "bar_style": "success",
       "description": "",
       "description_tooltip": null,
       "layout": "IPY_MODEL_b659dd1ae8454d7693139baa12ebd1bd",
       "max": 1.0,
       "min": 0.0,
       "orientation": "horizontal",
       "style": "IPY_MODEL_3c17b27961d04b359287cc7044f0fad0",
       "value": 1.0
      }
     },
     "f1be97fd096f4ad896b2c118e46da95e": {
      "model_module": "@jupyter-widgets/controls",
      "model_module_version": "1.5.0",
      "model_name": "HBoxModel",
      "state": {
       "_dom_classes": [],
       "_model_module": "@jupyter-widgets/controls",
       "_model_module_version": "1.5.0",
       "_model_name": "HBoxModel",
       "_view_count": null,
       "_view_module": "@jupyter-widgets/controls",
       "_view_module_version": "1.5.0",
       "_view_name": "HBoxView",
       "box_style": "",
       "children": [
        "IPY_MODEL_7dfe432e4d2947a2907899bc60bc139d",
        "IPY_MODEL_ad2324420d1e4d18b010b841123b26c5",
        "IPY_MODEL_986fb99c942d403097b241fc26404216"
       ],
       "layout": "IPY_MODEL_98a47b47be3b4f63bdce8a33b79dea74"
      }
     },
     "f227a88226d44871975f157d91982bae": {
      "model_module": "@jupyter-widgets/base",
      "model_module_version": "1.2.0",
      "model_name": "LayoutModel",
      "state": {
       "_model_module": "@jupyter-widgets/base",
       "_model_module_version": "1.2.0",
       "_model_name": "LayoutModel",
       "_view_count": null,
       "_view_module": "@jupyter-widgets/base",
       "_view_module_version": "1.2.0",
       "_view_name": "LayoutView",
       "align_content": null,
       "align_items": null,
       "align_self": null,
       "border": null,
       "bottom": null,
       "display": null,
       "flex": null,
       "flex_flow": null,
       "grid_area": null,
       "grid_auto_columns": null,
       "grid_auto_flow": null,
       "grid_auto_rows": null,
       "grid_column": null,
       "grid_gap": null,
       "grid_row": null,
       "grid_template_areas": null,
       "grid_template_columns": null,
       "grid_template_rows": null,
       "height": null,
       "justify_content": null,
       "justify_items": null,
       "left": null,
       "margin": null,
       "max_height": null,
       "max_width": null,
       "min_height": null,
       "min_width": null,
       "object_fit": null,
       "object_position": null,
       "order": null,
       "overflow": null,
       "overflow_x": null,
       "overflow_y": null,
       "padding": null,
       "right": null,
       "top": null,
       "visibility": null,
       "width": null
      }
     },
     "f2cbaca456874e3d8a44c876745257f7": {
      "model_module": "@jupyter-widgets/base",
      "model_module_version": "1.2.0",
      "model_name": "LayoutModel",
      "state": {
       "_model_module": "@jupyter-widgets/base",
       "_model_module_version": "1.2.0",
       "_model_name": "LayoutModel",
       "_view_count": null,
       "_view_module": "@jupyter-widgets/base",
       "_view_module_version": "1.2.0",
       "_view_name": "LayoutView",
       "align_content": null,
       "align_items": null,
       "align_self": null,
       "border": null,
       "bottom": null,
       "display": null,
       "flex": null,
       "flex_flow": null,
       "grid_area": null,
       "grid_auto_columns": null,
       "grid_auto_flow": null,
       "grid_auto_rows": null,
       "grid_column": null,
       "grid_gap": null,
       "grid_row": null,
       "grid_template_areas": null,
       "grid_template_columns": null,
       "grid_template_rows": null,
       "height": null,
       "justify_content": null,
       "justify_items": null,
       "left": null,
       "margin": null,
       "max_height": null,
       "max_width": null,
       "min_height": null,
       "min_width": null,
       "object_fit": null,
       "object_position": null,
       "order": null,
       "overflow": null,
       "overflow_x": null,
       "overflow_y": null,
       "padding": null,
       "right": null,
       "top": null,
       "visibility": null,
       "width": null
      }
     },
     "f5ea36995e5b44c992e1d7496c2357de": {
      "model_module": "@jupyter-widgets/controls",
      "model_module_version": "1.5.0",
      "model_name": "HTMLModel",
      "state": {
       "_dom_classes": [],
       "_model_module": "@jupyter-widgets/controls",
       "_model_module_version": "1.5.0",
       "_model_name": "HTMLModel",
       "_view_count": null,
       "_view_module": "@jupyter-widgets/controls",
       "_view_module_version": "1.5.0",
       "_view_name": "HTMLView",
       "description": "",
       "description_tooltip": null,
       "layout": "IPY_MODEL_91943de0a4f64e38943df87edc57a455",
       "placeholder": "​",
       "style": "IPY_MODEL_8e9bf4e8b65542898323d4a1d671f15a",
       "value": "Downloading data: 100%"
      }
     },
     "fd4df0b873bb427881a4cab866737fbf": {
      "model_module": "@jupyter-widgets/controls",
      "model_module_version": "1.5.0",
      "model_name": "HTMLModel",
      "state": {
       "_dom_classes": [],
       "_model_module": "@jupyter-widgets/controls",
       "_model_module_version": "1.5.0",
       "_model_name": "HTMLModel",
       "_view_count": null,
       "_view_module": "@jupyter-widgets/controls",
       "_view_module_version": "1.5.0",
       "_view_name": "HTMLView",
       "description": "",
       "description_tooltip": null,
       "layout": "IPY_MODEL_d05736efb2ee4ade9a396a2c9c58d6ec",
       "placeholder": "​",
       "style": "IPY_MODEL_c554799e46974ff5b77b26cda613f77f",
       "value": " 892M/892M [00:04&lt;00:00, 205MB/s]"
      }
     },
     "ffaf95af4b454656951a7ee213dfef7a": {
      "model_module": "@jupyter-widgets/controls",
      "model_module_version": "1.5.0",
      "model_name": "FloatProgressModel",
      "state": {
       "_dom_classes": [],
       "_model_module": "@jupyter-widgets/controls",
       "_model_module_version": "1.5.0",
       "_model_name": "FloatProgressModel",
       "_view_count": null,
       "_view_module": "@jupyter-widgets/controls",
       "_view_module_version": "1.5.0",
       "_view_name": "ProgressView",
       "bar_style": "success",
       "description": "",
       "description_tooltip": null,
       "layout": "IPY_MODEL_b26fd44b4dc1434fad75892c2d833fae",
       "max": 791656.0,
       "min": 0.0,
       "orientation": "horizontal",
       "style": "IPY_MODEL_69a3982a0074466ba819471c1d85791d",
       "value": 791656.0
      }
     },
     "ffb3d660f8d7433e893f8392a227bbc4": {
      "model_module": "@jupyter-widgets/controls",
      "model_module_version": "1.5.0",
      "model_name": "HBoxModel",
      "state": {
       "_dom_classes": [],
       "_model_module": "@jupyter-widgets/controls",
       "_model_module_version": "1.5.0",
       "_model_name": "HBoxModel",
       "_view_count": null,
       "_view_module": "@jupyter-widgets/controls",
       "_view_module_version": "1.5.0",
       "_view_name": "HBoxView",
       "box_style": "",
       "children": [
        "IPY_MODEL_95a6eafb61034b7692461466209f147b",
        "IPY_MODEL_04daa56459e8440886c737122aa6fd35",
        "IPY_MODEL_fd4df0b873bb427881a4cab866737fbf"
       ],
       "layout": "IPY_MODEL_01add3dcf73e49dc92de9ab234fb5648"
      }
     }
    },
    "version_major": 2,
    "version_minor": 0
   }
  }
 },
 "nbformat": 4,
 "nbformat_minor": 5
}
